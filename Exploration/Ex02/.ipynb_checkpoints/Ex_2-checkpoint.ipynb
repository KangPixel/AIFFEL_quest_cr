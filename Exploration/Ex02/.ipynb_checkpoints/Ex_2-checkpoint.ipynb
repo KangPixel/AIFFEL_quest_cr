{
 "cells": [
  {
   "cell_type": "code",
   "execution_count": 1,
   "id": "096921c5",
   "metadata": {},
   "outputs": [
    {
     "name": "stderr",
     "output_type": "stream",
     "text": [
      "[nltk_data] Downloading package stopwords to /aiffel/nltk_data...\n",
      "[nltk_data]   Package stopwords is already up-to-date!\n"
     ]
    },
    {
     "name": "stdout",
     "output_type": "stream",
     "text": [
      "3.6.5\n",
      "2.6.0\n",
      "1.3.3\n",
      "1.2.0\n"
     ]
    }
   ],
   "source": [
    "from importlib.metadata import version\n",
    "import nltk\n",
    "import tensorflow\n",
    "import summa\n",
    "import pandas as pd\n",
    "\n",
    "nltk.download('stopwords') # 불용어들 다운로드\n",
    "\n",
    "import numpy as np\n",
    "import os\n",
    "import re\n",
    "import matplotlib.pyplot as plt\n",
    "from nltk.corpus import stopwords\n",
    "from bs4 import BeautifulSoup \n",
    "from tensorflow.keras.preprocessing.text import Tokenizer \n",
    "from tensorflow.keras.preprocessing.sequence import pad_sequences\n",
    "import urllib.request\n",
    "import warnings\n",
    "warnings.filterwarnings(\"ignore\", category=UserWarning, module='bs4')\n",
    "\n",
    "print(nltk.__version__)\n",
    "print(tensorflow.__version__)\n",
    "print(pd.__version__)\n",
    "print(version('summa'))"
   ]
  },
  {
   "cell_type": "code",
   "execution_count": 2,
   "id": "39b5f7ae",
   "metadata": {},
   "outputs": [
    {
     "name": "stdout",
     "output_type": "stream",
     "text": [
      "전체 샘플수 : 98401\n"
     ]
    }
   ],
   "source": [
    "data = pd.read_csv(os.getenv('HOME')+'/aiffel/Exploration/news_summary_more.csv', encoding='iso-8859-1')\n",
    "print('전체 샘플수 :', (len(data)))"
   ]
  },
  {
   "cell_type": "code",
   "execution_count": 3,
   "id": "6079dd94",
   "metadata": {},
   "outputs": [
    {
     "data": {
      "text/html": [
       "<div>\n",
       "<style scoped>\n",
       "    .dataframe tbody tr th:only-of-type {\n",
       "        vertical-align: middle;\n",
       "    }\n",
       "\n",
       "    .dataframe tbody tr th {\n",
       "        vertical-align: top;\n",
       "    }\n",
       "\n",
       "    .dataframe thead th {\n",
       "        text-align: right;\n",
       "    }\n",
       "</style>\n",
       "<table border=\"1\" class=\"dataframe\">\n",
       "  <thead>\n",
       "    <tr style=\"text-align: right;\">\n",
       "      <th></th>\n",
       "      <th>headlines</th>\n",
       "      <th>text</th>\n",
       "    </tr>\n",
       "  </thead>\n",
       "  <tbody>\n",
       "    <tr>\n",
       "      <th>34918</th>\n",
       "      <td>US' Gray Matters Capital to fund ed-tech start...</td>\n",
       "      <td>US-based investing foundation Gray Matters Cap...</td>\n",
       "    </tr>\n",
       "    <tr>\n",
       "      <th>38250</th>\n",
       "      <td>Salman, Katrina sued in US over 'breach of con...</td>\n",
       "      <td>Bollywood artists including Salman Khan, Katri...</td>\n",
       "    </tr>\n",
       "    <tr>\n",
       "      <th>1067</th>\n",
       "      <td>Your sense of sanctity does not lie in your bo...</td>\n",
       "      <td>Actress Swara Bhasker has said a person's \"sen...</td>\n",
       "    </tr>\n",
       "    <tr>\n",
       "      <th>61987</th>\n",
       "      <td>Air India trolls IndiGo over passenger assault...</td>\n",
       "      <td>Air India on Wednesday seemingly trolled IndiG...</td>\n",
       "    </tr>\n",
       "    <tr>\n",
       "      <th>64251</th>\n",
       "      <td>Pune curator sacked over pitch-fixing hours be...</td>\n",
       "      <td>Maharashtra Cricket Association Stadium pitch ...</td>\n",
       "    </tr>\n",
       "    <tr>\n",
       "      <th>92288</th>\n",
       "      <td>UP on alert after reports of ISI-trained saffr...</td>\n",
       "      <td>Uttar Pradesh was put on a terror alert on Sat...</td>\n",
       "    </tr>\n",
       "    <tr>\n",
       "      <th>95011</th>\n",
       "      <td>Alia Bhatt's mother Soni Razdan to appear on T...</td>\n",
       "      <td>Actress Alia Bhatt's mother Soni Razdan is set...</td>\n",
       "    </tr>\n",
       "    <tr>\n",
       "      <th>15318</th>\n",
       "      <td>Sunny, husband Daniel dance on Daler Mehndi's ...</td>\n",
       "      <td>Sunny Leone has posted a video on her social m...</td>\n",
       "    </tr>\n",
       "    <tr>\n",
       "      <th>60970</th>\n",
       "      <td>SBI reduces employee strength by 10,500 post m...</td>\n",
       "      <td>India's largest lender State Bank of India has...</td>\n",
       "    </tr>\n",
       "    <tr>\n",
       "      <th>66428</th>\n",
       "      <td>Hundreds protest after McDonald's runs out of ...</td>\n",
       "      <td>Hundreds of people protested at McDonald's res...</td>\n",
       "    </tr>\n",
       "  </tbody>\n",
       "</table>\n",
       "</div>"
      ],
      "text/plain": [
       "                                               headlines  \\\n",
       "34918  US' Gray Matters Capital to fund ed-tech start...   \n",
       "38250  Salman, Katrina sued in US over 'breach of con...   \n",
       "1067   Your sense of sanctity does not lie in your bo...   \n",
       "61987  Air India trolls IndiGo over passenger assault...   \n",
       "64251  Pune curator sacked over pitch-fixing hours be...   \n",
       "92288  UP on alert after reports of ISI-trained saffr...   \n",
       "95011  Alia Bhatt's mother Soni Razdan to appear on T...   \n",
       "15318  Sunny, husband Daniel dance on Daler Mehndi's ...   \n",
       "60970  SBI reduces employee strength by 10,500 post m...   \n",
       "66428  Hundreds protest after McDonald's runs out of ...   \n",
       "\n",
       "                                                    text  \n",
       "34918  US-based investing foundation Gray Matters Cap...  \n",
       "38250  Bollywood artists including Salman Khan, Katri...  \n",
       "1067   Actress Swara Bhasker has said a person's \"sen...  \n",
       "61987  Air India on Wednesday seemingly trolled IndiG...  \n",
       "64251  Maharashtra Cricket Association Stadium pitch ...  \n",
       "92288  Uttar Pradesh was put on a terror alert on Sat...  \n",
       "95011  Actress Alia Bhatt's mother Soni Razdan is set...  \n",
       "15318  Sunny Leone has posted a video on her social m...  \n",
       "60970  India's largest lender State Bank of India has...  \n",
       "66428  Hundreds of people protested at McDonald's res...  "
      ]
     },
     "execution_count": 3,
     "metadata": {},
     "output_type": "execute_result"
    }
   ],
   "source": [
    "data.sample(10)"
   ]
  },
  {
   "cell_type": "markdown",
   "id": "33632320",
   "metadata": {},
   "source": [
    "### 데이터 전처리하기 \n",
    "(1) 데이터 정리하기\n",
    "\n",
    "중복 샘플과 NULL 값이 존재하는 샘플 제거"
   ]
  },
  {
   "cell_type": "code",
   "execution_count": 4,
   "id": "febfc728",
   "metadata": {},
   "outputs": [
    {
     "name": "stdout",
     "output_type": "stream",
     "text": [
      "text 열에서 중복을 배제한 유일한 샘플의 수 : 98360\n",
      "headlines 열에서 중복을 배제한 유일한 샘플의 수 : 98280\n"
     ]
    }
   ],
   "source": [
    "print('text 열에서 중복을 배제한 유일한 샘플의 수 :', data['text'].nunique())\n",
    "print('headlines 열에서 중복을 배제한 유일한 샘플의 수 :', data['headlines'].nunique())"
   ]
  },
  {
   "cell_type": "code",
   "execution_count": 5,
   "id": "4d4e7da6",
   "metadata": {},
   "outputs": [
    {
     "name": "stdout",
     "output_type": "stream",
     "text": [
      "전체 샘플수 : 98360\n"
     ]
    }
   ],
   "source": [
    "# inplace=True 를 설정하면 DataFrame 타입 값을 return 하지 않고 data 내부를 직접적으로 바꿉니다\n",
    "data.drop_duplicates(subset = ['text'], inplace=True)\n",
    "print('전체 샘플수 :', (len(data)))"
   ]
  },
  {
   "cell_type": "code",
   "execution_count": 6,
   "id": "68b6ef84",
   "metadata": {},
   "outputs": [
    {
     "name": "stdout",
     "output_type": "stream",
     "text": [
      "headlines    0\n",
      "text         0\n",
      "dtype: int64\n"
     ]
    }
   ],
   "source": [
    "print(data.isnull().sum())"
   ]
  },
  {
   "cell_type": "code",
   "execution_count": 7,
   "id": "4c220847",
   "metadata": {},
   "outputs": [
    {
     "name": "stdout",
     "output_type": "stream",
     "text": [
      "정규화 사전의 수:  120\n"
     ]
    }
   ],
   "source": [
    "# contractions 사전 정의 : 영어 축약형(예: \"can't\", \"won't\")과 그것의 풀어 쓴 형태(expanded form)를 매핑하는 사전을 정의\n",
    "contractions = {\"ain't\": \"is not\", \"aren't\": \"are not\",\"can't\": \"cannot\", \"'cause\": \"because\", \"could've\": \"could have\", \"couldn't\": \"could not\",\n",
    "                           \"didn't\": \"did not\",  \"doesn't\": \"does not\", \"don't\": \"do not\", \"hadn't\": \"had not\", \"hasn't\": \"has not\", \"haven't\": \"have not\",\n",
    "                           \"he'd\": \"he would\",\"he'll\": \"he will\", \"he's\": \"he is\", \"how'd\": \"how did\", \"how'd'y\": \"how do you\", \"how'll\": \"how will\", \"how's\": \"how is\",\n",
    "                           \"I'd\": \"I would\", \"I'd've\": \"I would have\", \"I'll\": \"I will\", \"I'll've\": \"I will have\",\"I'm\": \"I am\", \"I've\": \"I have\", \"i'd\": \"i would\",\n",
    "                           \"i'd've\": \"i would have\", \"i'll\": \"i will\",  \"i'll've\": \"i will have\",\"i'm\": \"i am\", \"i've\": \"i have\", \"isn't\": \"is not\", \"it'd\": \"it would\",\n",
    "                           \"it'd've\": \"it would have\", \"it'll\": \"it will\", \"it'll've\": \"it will have\",\"it's\": \"it is\", \"let's\": \"let us\", \"ma'am\": \"madam\",\n",
    "                           \"mayn't\": \"may not\", \"might've\": \"might have\",\"mightn't\": \"might not\",\"mightn't've\": \"might not have\", \"must've\": \"must have\",\n",
    "                           \"mustn't\": \"must not\", \"mustn't've\": \"must not have\", \"needn't\": \"need not\", \"needn't've\": \"need not have\",\"o'clock\": \"of the clock\",\n",
    "                           \"oughtn't\": \"ought not\", \"oughtn't've\": \"ought not have\", \"shan't\": \"shall not\", \"sha'n't\": \"shall not\", \"shan't've\": \"shall not have\",\n",
    "                           \"she'd\": \"she would\", \"she'd've\": \"she would have\", \"she'll\": \"she will\", \"she'll've\": \"she will have\", \"she's\": \"she is\",\n",
    "                           \"should've\": \"should have\", \"shouldn't\": \"should not\", \"shouldn't've\": \"should not have\", \"so've\": \"so have\",\"so's\": \"so as\",\n",
    "                           \"this's\": \"this is\",\"that'd\": \"that would\", \"that'd've\": \"that would have\", \"that's\": \"that is\", \"there'd\": \"there would\",\n",
    "                           \"there'd've\": \"there would have\", \"there's\": \"there is\", \"here's\": \"here is\",\"they'd\": \"they would\", \"they'd've\": \"they would have\",\n",
    "                           \"they'll\": \"they will\", \"they'll've\": \"they will have\", \"they're\": \"they are\", \"they've\": \"they have\", \"to've\": \"to have\",\n",
    "                           \"wasn't\": \"was not\", \"we'd\": \"we would\", \"we'd've\": \"we would have\", \"we'll\": \"we will\", \"we'll've\": \"we will have\", \"we're\": \"we are\",\n",
    "                           \"we've\": \"we have\", \"weren't\": \"were not\", \"what'll\": \"what will\", \"what'll've\": \"what will have\", \"what're\": \"what are\",\n",
    "                           \"what's\": \"what is\", \"what've\": \"what have\", \"when's\": \"when is\", \"when've\": \"when have\", \"where'd\": \"where did\", \"where's\": \"where is\",\n",
    "                           \"where've\": \"where have\", \"who'll\": \"who will\", \"who'll've\": \"who will have\", \"who's\": \"who is\", \"who've\": \"who have\",\n",
    "                           \"why's\": \"why is\", \"why've\": \"why have\", \"will've\": \"will have\", \"won't\": \"will not\", \"won't've\": \"will not have\",\n",
    "                           \"would've\": \"would have\", \"wouldn't\": \"would not\", \"wouldn't've\": \"would not have\", \"y'all\": \"you all\",\n",
    "                           \"y'all'd\": \"you all would\",\"y'all'd've\": \"you all would have\",\"y'all're\": \"you all are\",\"y'all've\": \"you all have\",\n",
    "                           \"you'd\": \"you would\", \"you'd've\": \"you would have\", \"you'll\": \"you will\", \"you'll've\": \"you will have\",\n",
    "                           \"you're\": \"you are\", \"you've\": \"you have\"}\n",
    "\n",
    "print(\"정규화 사전의 수: \", len(contractions))"
   ]
  },
  {
   "cell_type": "code",
   "execution_count": 8,
   "id": "95b3b14d",
   "metadata": {},
   "outputs": [
    {
     "name": "stdout",
     "output_type": "stream",
     "text": [
      "불용어 개수 : 179\n",
      "['i', 'me', 'my', 'myself', 'we', 'our', 'ours', 'ourselves', 'you', \"you're\", \"you've\", \"you'll\", \"you'd\", 'your', 'yours', 'yourself', 'yourselves', 'he', 'him', 'his', 'himself', 'she', \"she's\", 'her', 'hers', 'herself', 'it', \"it's\", 'its', 'itself', 'they', 'them', 'their', 'theirs', 'themselves', 'what', 'which', 'who', 'whom', 'this', 'that', \"that'll\", 'these', 'those', 'am', 'is', 'are', 'was', 'were', 'be', 'been', 'being', 'have', 'has', 'had', 'having', 'do', 'does', 'did', 'doing', 'a', 'an', 'the', 'and', 'but', 'if', 'or', 'because', 'as', 'until', 'while', 'of', 'at', 'by', 'for', 'with', 'about', 'against', 'between', 'into', 'through', 'during', 'before', 'after', 'above', 'below', 'to', 'from', 'up', 'down', 'in', 'out', 'on', 'off', 'over', 'under', 'again', 'further', 'then', 'once', 'here', 'there', 'when', 'where', 'why', 'how', 'all', 'any', 'both', 'each', 'few', 'more', 'most', 'other', 'some', 'such', 'no', 'nor', 'not', 'only', 'own', 'same', 'so', 'than', 'too', 'very', 's', 't', 'can', 'will', 'just', 'don', \"don't\", 'should', \"should've\", 'now', 'd', 'll', 'm', 'o', 're', 've', 'y', 'ain', 'aren', \"aren't\", 'couldn', \"couldn't\", 'didn', \"didn't\", 'doesn', \"doesn't\", 'hadn', \"hadn't\", 'hasn', \"hasn't\", 'haven', \"haven't\", 'isn', \"isn't\", 'ma', 'mightn', \"mightn't\", 'mustn', \"mustn't\", 'needn', \"needn't\", 'shan', \"shan't\", 'shouldn', \"shouldn't\", 'wasn', \"wasn't\", 'weren', \"weren't\", 'won', \"won't\", 'wouldn', \"wouldn't\"]\n"
     ]
    }
   ],
   "source": [
    "# 이 코드는 NLTK 라이브러리를 사용하여 영어 불용어(stopwords)의 개수를 출력하고, 실제 불용어 목록을 보여줌\n",
    "print('불용어 개수 :', len(stopwords.words('english') ))\n",
    "print(stopwords.words('english'))"
   ]
  },
  {
   "cell_type": "code",
   "execution_count": 9,
   "id": "120869ab",
   "metadata": {},
   "outputs": [],
   "source": [
    "# 데이터 전처리 함수\n",
    "def preprocess_sentence(sentence, remove_stopwords=True):\n",
    "    sentence = sentence.lower() # 텍스트 소문자화\n",
    "    sentence = BeautifulSoup(sentence, \"lxml\").text # <br />, <a href = ...> 등의 html 태그 제거\n",
    "    sentence = re.sub(r'\\([^)]*\\)', '', sentence) # 괄호로 닫힌 문자열 (...) 제거 Ex) my husband (and myself!) for => my husband for\n",
    "    sentence = re.sub('\"','', sentence) # 쌍따옴표 \" 제거\n",
    "    sentence = ' '.join([contractions[t] if t in contractions else t for t in sentence.split(\" \")]) # 약어 정규화\n",
    "    sentence = re.sub(r\"'s\\b\",\"\", sentence) # 소유격 제거. Ex) roland's -> roland\n",
    "    sentence = re.sub(\"[^a-zA-Z]\", \" \", sentence) # 영어 외 문자(숫자, 특수문자 등) 공백으로 변환\n",
    "    sentence = re.sub('[m]{2,}', 'mm', sentence) # m이 3개 이상이면 2개로 변경. Ex) ummmmmmm yeah -> umm yeah\n",
    "    \n",
    "    # 불용어 제거 (text)\n",
    "    if remove_stopwords:\n",
    "        tokens = ' '.join(word for word in sentence.split() if not word in stopwords.words('english') if len(word) > 1)\n",
    "    # 불용어 미제거 (headlines)\n",
    "    else:\n",
    "        tokens = ' '.join(word for word in sentence.split() if len(word) > 1)\n",
    "    return tokens"
   ]
  },
  {
   "cell_type": "code",
   "execution_count": 10,
   "id": "4a940cb8",
   "metadata": {},
   "outputs": [
    {
     "name": "stdout",
     "output_type": "stream",
     "text": [
      "Text 전처리 후 결과:  ['saurav kant alumnus upgrad iiit pg program machine learning artificial intelligence sr systems engineer infosys almost years work experience program upgrad degree career support helped transition data scientist tech mahindra salary hike upgrad online power learning powered lakh careers', 'kunal shah credit card bill payment platform cred gave users chance win free food swiggy one year pranav kaushik delhi techie bagged reward spending cred coins users get one cred coin per rupee bill paid used avail rewards brands like ixigo bookmyshow ubereats cult fit', 'new zealand defeated india wickets fourth odi hamilton thursday win first match five match odi series india lost international match rohit sharma captaincy consecutive victories dating back march match witnessed india getting seventh lowest total odi cricket history', 'aegon life iterm insurance plan customers enjoy tax benefits premiums paid save taxes plan provides life cover age years also customers options insure critical illnesses disability accidental death benefit rider life cover age years', 'speaking sexual harassment allegations rajkumar hirani sonam kapoor said known hirani many years true metoo movement get derailed metoo movement always believe woman case need reserve judgment added hirani accused assistant worked sanju']\n"
     ]
    }
   ],
   "source": [
    "clean_text = []\n",
    "\n",
    "# 각 텍스트(i)를 전처리 함수 preprocess_sentence를 사용해 처리. 전처리된 결과를 clean_text 리스트에 추가.\n",
    "for i in data['text']:\n",
    "    clean_text.append(preprocess_sentence(i))\n",
    "\n",
    "# 전처리된 텍스트 중 앞에서 5개를 출력하여 확인합니다\n",
    "print(\"Text 전처리 후 결과: \", clean_text[:5])"
   ]
  },
  {
   "cell_type": "code",
   "execution_count": 11,
   "id": "19005962",
   "metadata": {},
   "outputs": [
    {
     "name": "stdout",
     "output_type": "stream",
     "text": [
      "Headlines 전처리 후 결과:  ['upgrad learner switches to career in ml al with salary hike', 'delhi techie wins free food from swiggy for one year on cred', 'new zealand end rohit sharma led india match winning streak', 'aegon life iterm insurance plan helps customers save tax', 'have known hirani for yrs what if metoo claims are not true sonam']\n"
     ]
    }
   ],
   "source": [
    "# headlines는 위 if문에서 else로 가서 불용어를 제거하지 않도록 처리함\n",
    "clean_headlines = []\n",
    "\n",
    "for i in data['headlines']:\n",
    "    clean_headlines.append(preprocess_sentence(i, False))\n",
    "\n",
    "print(\"Headlines 전처리 후 결과: \", clean_headlines[:5])"
   ]
  },
  {
   "cell_type": "code",
   "execution_count": 12,
   "id": "36fac6da",
   "metadata": {},
   "outputs": [],
   "source": [
    "data['text'] = clean_text\n",
    "data['headlines'] = clean_headlines\n",
    "\n",
    "# 데이터프레임에서 빈 문자열('')을 Null 값(NaN)으로 변환. \n",
    "data.replace('', np.nan, inplace=True) #inplace=True: 데이터프레임을 원본 그대로 변경. Null 값은 데이터 분석 과정에서 결측값 처리를 용이하게 만듦"
   ]
  },
  {
   "cell_type": "code",
   "execution_count": 13,
   "id": "53b67e53",
   "metadata": {},
   "outputs": [
    {
     "data": {
      "text/plain": [
       "headlines    0\n",
       "text         0\n",
       "dtype: int64"
      ]
     },
     "execution_count": 13,
     "metadata": {},
     "output_type": "execute_result"
    }
   ],
   "source": [
    "# 확인 코드?\n",
    "data.isnull().sum()"
   ]
  },
  {
   "cell_type": "code",
   "execution_count": 14,
   "id": "58fad396",
   "metadata": {},
   "outputs": [
    {
     "name": "stdout",
     "output_type": "stream",
     "text": [
      "텍스트의 최소 길이 : 1\n",
      "텍스트의 최대 길이 : 60\n",
      "텍스트의 평균 길이 : 35.09968483123221\n",
      "요약의 최소 길이 : 1\n",
      "요약의 최대 길이 : 16\n",
      "요약의 평균 길이 : 9.299532330215534\n"
     ]
    },
    {
     "data": {
      "image/png": "[encoded data removed]",
      "text/plain": [
       "<Figure size 432x288 with 2 Axes>"
      ]
     },
     "metadata": {
      "needs_background": "light"
     },
     "output_type": "display_data"
    },
    {
     "data": {
      "image/png": "[encoded data removed]",
      "text/plain": [
       "<Figure size 432x288 with 1 Axes>"
      ]
     },
     "metadata": {
      "needs_background": "light"
     },
     "output_type": "display_data"
    },
    {
     "data": {
      "image/png": "[encoded data removed]",
      "text/plain": [
       "<Figure size 432x288 with 1 Axes>"
      ]
     },
     "metadata": {
      "needs_background": "light"
     },
     "output_type": "display_data"
    }
   ],
   "source": [
    "# 길이 분포 출력\n",
    "import matplotlib.pyplot as plt\n",
    "\n",
    "text_len = [len(s.split()) for s in data['text']]\n",
    "headlines_len = [len(s.split()) for s in data['headlines']]\n",
    "\n",
    "print('텍스트의 최소 길이 : {}'.format(np.min(text_len)))\n",
    "print('텍스트의 최대 길이 : {}'.format(np.max(text_len)))\n",
    "print('텍스트의 평균 길이 : {}'.format(np.mean(text_len)))\n",
    "print('요약의 최소 길이 : {}'.format(np.min(headlines_len)))\n",
    "print('요약의 최대 길이 : {}'.format(np.max(headlines_len)))\n",
    "print('요약의 평균 길이 : {}'.format(np.mean(headlines_len)))\n",
    "\n",
    "plt.subplot(1,2,1)\n",
    "plt.boxplot(text_len)\n",
    "plt.title('Text')\n",
    "plt.subplot(1,2,2)\n",
    "plt.boxplot(headlines_len)\n",
    "plt.title('Headlines')\n",
    "plt.tight_layout()\n",
    "plt.show()\n",
    "\n",
    "plt.title('Text')\n",
    "plt.hist(text_len, bins = 40)\n",
    "plt.xlabel('length of samples')\n",
    "plt.ylabel('number of samples')\n",
    "plt.show()\n",
    "\n",
    "plt.title('Headlines')\n",
    "plt.hist(headlines_len, bins = 40)\n",
    "plt.xlabel('length of samples')\n",
    "plt.ylabel('number of samples')\n",
    "plt.show()"
   ]
  },
  {
   "cell_type": "code",
   "execution_count": 15,
   "id": "46e313d5",
   "metadata": {},
   "outputs": [],
   "source": [
    "# 최대길이 제한 (그냥 다 해보기로 함)\n",
    "text_max_len = 60\n",
    "headlines_max_len = 16"
   ]
  },
  {
   "cell_type": "code",
   "execution_count": 16,
   "id": "4df7312e",
   "metadata": {},
   "outputs": [],
   "source": [
    "# 기준 길이 이하 샘플 비율 구하는 함수\n",
    "def below_threshold_len(max_len, nested_list):\n",
    "  cnt = 0 # 기준 길이 이하인 샘플의 개수를 세기 위한 변수 cnt 초기화\n",
    "  for s in nested_list:\n",
    "    if(len(s.split()) <= max_len):\n",
    "        cnt = cnt + 1\n",
    "  print('전체 샘플 중 길이가 %s 이하인 샘플의 비율: %s'%(max_len, (cnt / len(nested_list))))"
   ]
  },
  {
   "cell_type": "code",
   "execution_count": 19,
   "id": "ad0a9fd5",
   "metadata": {},
   "outputs": [
    {
     "name": "stdout",
     "output_type": "stream",
     "text": [
      "전체 샘플 중 길이가 60 이하인 샘플의 비율: 1.0\n",
      "전체 샘플 중 길이가 16 이하인 샘플의 비율: 1.0\n"
     ]
    }
   ],
   "source": [
    "# 함수를 불러와서 확인\n",
    "below_threshold_len(text_max_len, data['text'])\n",
    "below_threshold_len(headlines_max_len,  data['headlines'])"
   ]
  },
  {
   "cell_type": "code",
   "execution_count": 19,
   "id": "b2c129e0",
   "metadata": {},
   "outputs": [],
   "source": [
    "# text_max_len과 summary_max_len 길이를 초과하는 샘플 제거\n",
    "# data = data[\n",
    "#     data['Text'].apply(lambda x: len(x.split()) <= text_max_len) &\n",
    "#     data['Summary'].apply(lambda x: len(x.split()) <= summary_max_len)\n",
    "# ]\n",
    "\n",
    "# print('전체 샘플수 :', (len(data)))\n",
    "# 변경된 데이터프레임 확인\n",
    "# data.head()"
   ]
  },
  {
   "cell_type": "markdown",
   "id": "48cafc02",
   "metadata": {},
   "source": [
    "#### 시작 토큰과 종료 토큰 추가하기\n",
    "디코더는 시작 토큰을 입력받아 문장을 생성하기 시작하고, 종료 토큰을 예측한 순간에 문장 생성을 멈춤\n",
    "\n",
    "- seq2seq 훈련을 위해서는 디코더의 입력과 레이블에 시작 토큰과 종료 토큰을 추가  \n",
    "- 시작 토큰은 sostoken, 종료 토큰은 eostoken이라 임의로 명명하고 앞, 뒤로 추가  \n",
    "- 디코더의 입력에 해당하면서 시작 토큰이 맨 앞에 있는 문장의 이름을 decoder_input, \n",
    "  디코더의 출력 또는 레이블에 해당되면서 종료 토큰이 맨 뒤에 붙는 문장의 이름을 decoder_target이라고 명칭함  \n",
    "  \n",
    "두 개의 문장 모두 headlines 열로부터 만듬"
   ]
  },
  {
   "cell_type": "code",
   "execution_count": 20,
   "id": "9a23860f",
   "metadata": {},
   "outputs": [
    {
     "data": {
      "text/html": [
       "<div>\n",
       "<style scoped>\n",
       "    .dataframe tbody tr th:only-of-type {\n",
       "        vertical-align: middle;\n",
       "    }\n",
       "\n",
       "    .dataframe tbody tr th {\n",
       "        vertical-align: top;\n",
       "    }\n",
       "\n",
       "    .dataframe thead th {\n",
       "        text-align: right;\n",
       "    }\n",
       "</style>\n",
       "<table border=\"1\" class=\"dataframe\">\n",
       "  <thead>\n",
       "    <tr style=\"text-align: right;\">\n",
       "      <th></th>\n",
       "      <th>headlines</th>\n",
       "      <th>text</th>\n",
       "      <th>decoder_input</th>\n",
       "      <th>decoder_target</th>\n",
       "    </tr>\n",
       "  </thead>\n",
       "  <tbody>\n",
       "    <tr>\n",
       "      <th>0</th>\n",
       "      <td>upgrad learner switches to career in ml al wit...</td>\n",
       "      <td>saurav kant alumnus upgrad iiit pg program mac...</td>\n",
       "      <td>sostoken upgrad learner switches to career in ...</td>\n",
       "      <td>upgrad learner switches to career in ml al wit...</td>\n",
       "    </tr>\n",
       "    <tr>\n",
       "      <th>1</th>\n",
       "      <td>delhi techie wins free food from swiggy for on...</td>\n",
       "      <td>kunal shah credit card bill payment platform c...</td>\n",
       "      <td>sostoken delhi techie wins free food from swig...</td>\n",
       "      <td>delhi techie wins free food from swiggy for on...</td>\n",
       "    </tr>\n",
       "    <tr>\n",
       "      <th>2</th>\n",
       "      <td>new zealand end rohit sharma led india match w...</td>\n",
       "      <td>new zealand defeated india wickets fourth odi ...</td>\n",
       "      <td>sostoken new zealand end rohit sharma led indi...</td>\n",
       "      <td>new zealand end rohit sharma led india match w...</td>\n",
       "    </tr>\n",
       "    <tr>\n",
       "      <th>3</th>\n",
       "      <td>aegon life iterm insurance plan helps customer...</td>\n",
       "      <td>aegon life iterm insurance plan customers enjo...</td>\n",
       "      <td>sostoken aegon life iterm insurance plan helps...</td>\n",
       "      <td>aegon life iterm insurance plan helps customer...</td>\n",
       "    </tr>\n",
       "    <tr>\n",
       "      <th>4</th>\n",
       "      <td>have known hirani for yrs what if metoo claims...</td>\n",
       "      <td>speaking sexual harassment allegations rajkuma...</td>\n",
       "      <td>sostoken have known hirani for yrs what if met...</td>\n",
       "      <td>have known hirani for yrs what if metoo claims...</td>\n",
       "    </tr>\n",
       "  </tbody>\n",
       "</table>\n",
       "</div>"
      ],
      "text/plain": [
       "                                           headlines  \\\n",
       "0  upgrad learner switches to career in ml al wit...   \n",
       "1  delhi techie wins free food from swiggy for on...   \n",
       "2  new zealand end rohit sharma led india match w...   \n",
       "3  aegon life iterm insurance plan helps customer...   \n",
       "4  have known hirani for yrs what if metoo claims...   \n",
       "\n",
       "                                                text  \\\n",
       "0  saurav kant alumnus upgrad iiit pg program mac...   \n",
       "1  kunal shah credit card bill payment platform c...   \n",
       "2  new zealand defeated india wickets fourth odi ...   \n",
       "3  aegon life iterm insurance plan customers enjo...   \n",
       "4  speaking sexual harassment allegations rajkuma...   \n",
       "\n",
       "                                       decoder_input  \\\n",
       "0  sostoken upgrad learner switches to career in ...   \n",
       "1  sostoken delhi techie wins free food from swig...   \n",
       "2  sostoken new zealand end rohit sharma led indi...   \n",
       "3  sostoken aegon life iterm insurance plan helps...   \n",
       "4  sostoken have known hirani for yrs what if met...   \n",
       "\n",
       "                                      decoder_target  \n",
       "0  upgrad learner switches to career in ml al wit...  \n",
       "1  delhi techie wins free food from swiggy for on...  \n",
       "2  new zealand end rohit sharma led india match w...  \n",
       "3  aegon life iterm insurance plan helps customer...  \n",
       "4  have known hirani for yrs what if metoo claims...  "
      ]
     },
     "execution_count": 20,
     "metadata": {},
     "output_type": "execute_result"
    }
   ],
   "source": [
    "# 요약 데이터에는 시작 토큰과 종료 토큰을 추가한다.\n",
    "data['decoder_input'] = data['headlines'].apply(lambda x : 'sostoken '+ x)\n",
    "data['decoder_target'] = data['headlines'].apply(lambda x : x + ' eostoken')\n",
    "data.head()"
   ]
  },
  {
   "cell_type": "code",
   "execution_count": 21,
   "id": "61fcbcbc",
   "metadata": {},
   "outputs": [],
   "source": [
    "encoder_input = np.array(data['text']) # 인코더의 입력\n",
    "decoder_input = np.array(data['decoder_input']) # 디코더의 입력\n",
    "decoder_target = np.array(data['decoder_target']) # 디코더의 레이블"
   ]
  },
  {
   "cell_type": "code",
   "execution_count": 22,
   "id": "dc7a5cbd",
   "metadata": {},
   "outputs": [
    {
     "name": "stdout",
     "output_type": "stream",
     "text": [
      "[59262 89146 31339 ... 20007  2755 17412]\n"
     ]
    }
   ],
   "source": [
    "indices = np.arange(encoder_input.shape[0])\n",
    "np.random.shuffle(indices)\n",
    "print(indices)"
   ]
  },
  {
   "cell_type": "code",
   "execution_count": 23,
   "id": "43a78fe2",
   "metadata": {},
   "outputs": [],
   "source": [
    "encoder_input = encoder_input[indices]\n",
    "decoder_input = decoder_input[indices]\n",
    "decoder_target = decoder_target[indices]"
   ]
  },
  {
   "cell_type": "code",
   "execution_count": 24,
   "id": "d17ae37c",
   "metadata": {},
   "outputs": [
    {
     "name": "stdout",
     "output_type": "stream",
     "text": [
      "테스트 데이터의 수 : 19672\n"
     ]
    }
   ],
   "source": [
    "n_of_val = int(len(encoder_input)*0.2)\n",
    "print('테스트 데이터의 수 :', n_of_val)"
   ]
  },
  {
   "cell_type": "code",
   "execution_count": 25,
   "id": "499e6a01",
   "metadata": {},
   "outputs": [
    {
     "name": "stdout",
     "output_type": "stream",
     "text": [
      "훈련 데이터의 개수 : 78688\n",
      "훈련 레이블의 개수 : 78688\n",
      "테스트 데이터의 개수 : 19672\n",
      "테스트 레이블의 개수 : 19672\n"
     ]
    }
   ],
   "source": [
    "encoder_input_train = encoder_input[:-n_of_val]\n",
    "decoder_input_train = decoder_input[:-n_of_val]\n",
    "decoder_target_train = decoder_target[:-n_of_val]\n",
    "\n",
    "encoder_input_test = encoder_input[-n_of_val:]\n",
    "decoder_input_test = decoder_input[-n_of_val:]\n",
    "decoder_target_test = decoder_target[-n_of_val:]\n",
    "\n",
    "print('훈련 데이터의 개수 :', len(encoder_input_train))\n",
    "print('훈련 레이블의 개수 :', len(decoder_input_train))\n",
    "print('테스트 데이터의 개수 :', len(encoder_input_test))\n",
    "print('테스트 레이블의 개수 :', len(decoder_input_test))"
   ]
  },
  {
   "cell_type": "markdown",
   "id": "4f5a92eb",
   "metadata": {},
   "source": [
    "### 데이터 전처리하기 \n",
    "정수 인코딩\n",
    "단어 집합(vocabulary) 만들기 및 정수 인코딩\n",
    "기계가 텍스트를 숫자로 처리할 수 있도록 훈련 데이터와 테스트 데이터의 단어들을 모두 정수로 바꾸어 주기.  \n",
    "각 단어에 고유한 정수를 *맵핑*하는 작업이 필요 (단어 집합(vocabulary) 을 만들기)  \n",
    "훈련 데이터에 대해 단어 집합을 만들기.  \n",
    "원문에 해당되는 encoder_input_train에 대해서 단어 집합 제작\n",
    "\n",
    "Keras의 토크나이저를 사용하면, 입력된 훈련 데이터로부터 단어 집합을 만들 수 있음"
   ]
  },
  {
   "cell_type": "code",
   "execution_count": 26,
   "id": "76758045",
   "metadata": {},
   "outputs": [],
   "source": [
    "src_tokenizer = Tokenizer() # 토크나이저 정의\n",
    "src_tokenizer.fit_on_texts(encoder_input_train) # 입력된 데이터로부터 단어 집합 생성"
   ]
  },
  {
   "cell_type": "code",
   "execution_count": 27,
   "id": "1c64b5a6",
   "metadata": {},
   "outputs": [
    {
     "name": "stdout",
     "output_type": "stream",
     "text": [
      "단어 집합(vocabulary)의 크기 : 69631\n",
      "등장 빈도가 6번 이하인 희귀 단어의 수: 47450\n",
      "단어 집합에서 희귀 단어를 제외시킬 경우의 단어 집합의 크기 22181\n",
      "단어 집합에서 희귀 단어의 비율: 68.14493544541943\n",
      "전체 등장 빈도에서 희귀 단어 등장 빈도 비율: 3.4853255452846863\n"
     ]
    }
   ],
   "source": [
    "threshold = 7\n",
    "total_cnt = len(src_tokenizer.word_index) # 단어의 수\n",
    "rare_cnt = 0 # 등장 빈도수가 threshold보다 작은 단어의 개수를 카운트\n",
    "total_freq = 0 # 훈련 데이터의 전체 단어 빈도수 총 합\n",
    "rare_freq = 0 # 등장 빈도수가 threshold보다 작은 단어의 등장 빈도수의 총 합\n",
    "\n",
    "# 단어와 빈도수의 쌍(pair)을 key와 value로 받는다.\n",
    "for key, value in src_tokenizer.word_counts.items():\n",
    "    total_freq = total_freq + value\n",
    "\n",
    "    # 단어의 등장 빈도수가 threshold보다 작으면\n",
    "    if(value < threshold):\n",
    "        rare_cnt = rare_cnt + 1\n",
    "        rare_freq = rare_freq + value\n",
    "\n",
    "print('단어 집합(vocabulary)의 크기 :', total_cnt)\n",
    "print('등장 빈도가 %s번 이하인 희귀 단어의 수: %s'%(threshold - 1, rare_cnt))\n",
    "print('단어 집합에서 희귀 단어를 제외시킬 경우의 단어 집합의 크기 %s'%(total_cnt - rare_cnt))\n",
    "print(\"단어 집합에서 희귀 단어의 비율:\", (rare_cnt / total_cnt)*100)\n",
    "print(\"전체 등장 빈도에서 희귀 단어 등장 빈도 비율:\", (rare_freq / total_freq)*100)"
   ]
  },
  {
   "cell_type": "markdown",
   "id": "8dbe10a7",
   "metadata": {},
   "source": [
    "encoder_input_train에는 약 7만여 개의 단어 존재.\n",
    "\n",
    "등장 빈도가 threshold 값인 6회 이하인 단어들은 단어 집합에서 68% 이상을 차지, 하지만 실제로 훈련 데이터에서 등장 빈도로 차지하는 비중은 3.49%밖에 되지 않아요.\n",
    "\n",
    "그래서 등장 빈도가 6회 이하인 단어들은 정수 인코딩 과정에서 빼고, 훈련 데이터에서 제거하고자 함. 위에서 이를 제외한 단어 집합의 크기를 2만2천여 개로 계산했는데, 이와 비슷한 값으로 어림잡아 단어 집합의 크기를 22,000으로 제한. 토크나이저를 정의할 때 num_words의 값을 정해주면, 단어 집합의 크기를 제한 가능."
   ]
  },
  {
   "cell_type": "code",
   "execution_count": 28,
   "id": "05684e1f",
   "metadata": {},
   "outputs": [],
   "source": [
    "src_vocab = 22000\n",
    "src_tokenizer = Tokenizer(num_words=src_vocab) # 단어 집합의 크기를 22,000으로 제한\n",
    "src_tokenizer.fit_on_texts(encoder_input_train) # 단어 집합 재생성"
   ]
  },
  {
   "cell_type": "markdown",
   "id": "8afa822c",
   "metadata": {},
   "source": [
    "texts_to_sequences()는 생성된 단어 집합에 기반하여 입력으로 주어진 텍스트 데이터의 단어들을 모두 정수로 변환하는 정수 인코딩을 수행. 현재 단어 집합의 크기를 22,000으로 제한했으니까 이제 22,000이 넘는 숫자들은 정수 인코딩 후에는 데이터에 존재하지 않음."
   ]
  },
  {
   "cell_type": "code",
   "execution_count": 29,
   "id": "cb1297b0",
   "metadata": {},
   "outputs": [
    {
     "name": "stdout",
     "output_type": "stream",
     "text": [
      "[[9, 1020, 1547, 20667, 74, 1046, 636, 1666, 207, 3749, 10065, 178, 428, 1666, 1571, 112, 405, 6252, 2237, 1840, 1466, 1749, 74, 1991, 4100, 2750, 1812, 2237, 155, 228, 1350, 1666, 21, 548], [51, 1262, 6321, 134, 376, 31, 10066, 17523, 2966, 2273, 4511, 190, 228, 2771, 78, 31, 743, 1262, 2966, 6405, 10066, 225, 898, 6047, 589, 1262, 205, 5238, 2966, 3422, 2199, 2771, 12213, 332, 17, 1262, 1173], [568, 12, 964, 1999, 138, 7807, 138, 93, 4157, 18406, 68, 8256, 2945, 415, 8689, 16739, 18407, 6551, 1074, 4157, 517, 4271, 300, 10301, 5292, 1, 66, 1999, 18408]]\n"
     ]
    }
   ],
   "source": [
    "# 텍스트 시퀀스를 정수 시퀀스로 변환\n",
    "encoder_input_train = src_tokenizer.texts_to_sequences(encoder_input_train) \n",
    "encoder_input_test = src_tokenizer.texts_to_sequences(encoder_input_test)\n",
    "\n",
    "# 잘 진행되었는지 샘플 출력\n",
    "print(encoder_input_train[:3])"
   ]
  },
  {
   "cell_type": "code",
   "execution_count": 30,
   "id": "41e16d74",
   "metadata": {},
   "outputs": [],
   "source": [
    "tar_tokenizer = Tokenizer()\n",
    "tar_tokenizer.fit_on_texts(decoder_input_train)"
   ]
  },
  {
   "cell_type": "code",
   "execution_count": 31,
   "id": "dcb74007",
   "metadata": {},
   "outputs": [
    {
     "name": "stdout",
     "output_type": "stream",
     "text": [
      "단어 집합(vocabulary)의 크기 : 30104\n",
      "등장 빈도가 5번 이하인 희귀 단어의 수: 19700\n",
      "단어 집합에서 희귀 단어를 제외시킬 경우의 단어 집합의 크기 10404\n",
      "단어 집합에서 희귀 단어의 비율: 65.43980866330055\n",
      "전체 등장 빈도에서 희귀 단어 등장 빈도 비율: 4.664723391861941\n"
     ]
    }
   ],
   "source": [
    "threshold = 6\n",
    "total_cnt = len(tar_tokenizer.word_index) # 단어의 수\n",
    "rare_cnt = 0 # 등장 빈도수가 threshold보다 작은 단어의 개수를 카운트\n",
    "total_freq = 0 # 훈련 데이터의 전체 단어 빈도수 총 합\n",
    "rare_freq = 0 # 등장 빈도수가 threshold보다 작은 단어의 등장 빈도수의 총 합\n",
    "\n",
    "# 단어와 빈도수의 쌍(pair)을 key와 value로 받는다.\n",
    "for key, value in tar_tokenizer.word_counts.items():\n",
    "    total_freq = total_freq + value\n",
    "\n",
    "    # 단어의 등장 빈도수가 threshold보다 작으면\n",
    "    if(value < threshold):\n",
    "        rare_cnt = rare_cnt + 1\n",
    "        rare_freq = rare_freq + value\n",
    "\n",
    "print('단어 집합(vocabulary)의 크기 :', total_cnt)\n",
    "print('등장 빈도가 %s번 이하인 희귀 단어의 수: %s'%(threshold - 1, rare_cnt))\n",
    "print('단어 집합에서 희귀 단어를 제외시킬 경우의 단어 집합의 크기 %s'%(total_cnt - rare_cnt))\n",
    "print(\"단어 집합에서 희귀 단어의 비율:\", (rare_cnt / total_cnt)*100)\n",
    "print(\"전체 등장 빈도에서 희귀 단어 등장 빈도 비율:\", (rare_freq / total_freq)*100)"
   ]
  },
  {
   "cell_type": "markdown",
   "id": "37d07f5b",
   "metadata": {},
   "source": [
    "등장 빈도가 5회 이하인 단어들은 단어 집합에서 약 65%를 차지. 하지만 실제로 훈련 데이터에서 등장 빈도로 차지하는 비중은 4.66%. 아까 했던 것과 동일하게 이 단어들은 모두 제거. 어림잡아 10,000을 단어 집합의 크기로 제한할게요."
   ]
  },
  {
   "cell_type": "code",
   "execution_count": 32,
   "id": "8c12fa03",
   "metadata": {},
   "outputs": [
    {
     "name": "stdout",
     "output_type": "stream",
     "text": [
      "input\n",
      "input  [[1, 3103, 2730, 985, 1201, 9, 357, 1473], [1, 640, 206, 66, 6, 296, 112, 6502, 9, 42, 2982], [1, 998, 245, 488, 127, 4995], [1, 13, 706, 2272, 60, 26, 133, 5, 1716, 3, 504, 192], [1, 32, 102, 1563, 3, 22, 37, 5417, 23, 6, 6873, 3260]]\n",
      "target\n",
      "decoder  [[3103, 2730, 985, 1201, 9, 357, 1473, 2], [640, 206, 66, 6, 296, 112, 6502, 9, 42, 2982, 2], [998, 245, 488, 127, 4995, 2], [13, 706, 2272, 60, 26, 133, 5, 1716, 3, 504, 192, 2], [32, 102, 1563, 3, 22, 37, 5417, 23, 6, 6873, 3260, 2]]\n"
     ]
    }
   ],
   "source": [
    "tar_vocab = 10000\n",
    "tar_tokenizer = Tokenizer(num_words=tar_vocab) \n",
    "tar_tokenizer.fit_on_texts(decoder_input_train)\n",
    "tar_tokenizer.fit_on_texts(decoder_target_train)\n",
    "\n",
    "# 텍스트 시퀀스를 정수 시퀀스로 변환\n",
    "decoder_input_train = tar_tokenizer.texts_to_sequences(decoder_input_train) \n",
    "decoder_target_train = tar_tokenizer.texts_to_sequences(decoder_target_train)\n",
    "decoder_input_test = tar_tokenizer.texts_to_sequences(decoder_input_test)\n",
    "decoder_target_test = tar_tokenizer.texts_to_sequences(decoder_target_test)\n",
    "\n",
    "# 잘 변환되었는지 확인\n",
    "print('input')\n",
    "print('input ',decoder_input_train[:5])\n",
    "print('target')\n",
    "print('decoder ',decoder_target_train[:5])"
   ]
  },
  {
   "cell_type": "markdown",
   "id": "3eb1fd46",
   "metadata": {},
   "source": [
    "정상적으로 정수 인코딩 작업 끝.  \n",
    "현재 decoder_input_train과 decoder_target_train에는 더 이상 숫자 10,000이 넘는 숫자들은 존재하지 않음. 그런데 다음 작업인 패딩 하기로 넘어가기 전에 한 가지 점검해야 할 것이 존재.\n",
    "\n",
    "전체 데이터에서 빈도수가 낮은 단어가 삭제되었다는 것은 빈도수가 낮은 단어만으로 구성되었던 샘플들은 이제 빈(empty) 샘플이 되었을 가능성이 있음. 이 현상은 길이가 상대적으로 길었던 원문(text)의 경우에는 문제가 별로 없겠지만, 애초에 평균 길이가 4밖에 되지 않았던 기사제목(headlines)의 경우에는 이 현상이 굉장히 두드러졌을 가능성이 높음.\n",
    "\n",
    "요약문에서 길이가 0이 된 샘플들의 인덱스를 받아와 확인. 여기서 주의할 점은 요약문인 decoder_input에는 sostoken 또는 decoder_target에는 eostoken이 추가된 상태이고, 이 두 토큰은 모든 샘플에서 등장하므로 빈도수가 샘플 수와 동일하게 매우 높으므로 단어 집합 제한에도 삭제되지 않음. 그래서 이제 길이가 0이 된 요약문의 실제 길이는 1로 나올 것임. \n",
    "\n",
    "훈련 데이터와 테스트 데이터에 대해서 요약문의 길이가 1인 경우의 인덱스를 각각 drop_train과 drop_test에 라는 변수에 저장. 이 샘플들은 모두 삭제 예정."
   ]
  },
  {
   "cell_type": "code",
   "execution_count": 33,
   "id": "fe28cf1c",
   "metadata": {},
   "outputs": [
    {
     "name": "stdout",
     "output_type": "stream",
     "text": [
      "삭제할 훈련 데이터의 개수 : 0\n",
      "삭제할 테스트 데이터의 개수 : 0\n",
      "훈련 데이터의 개수 : 78688\n",
      "훈련 레이블의 개수 : 78688\n",
      "테스트 데이터의 개수 : 19672\n",
      "테스트 레이블의 개수 : 19672\n"
     ]
    }
   ],
   "source": [
    "drop_train = [index for index, sentence in enumerate(decoder_input_train) if len(sentence) == 1]\n",
    "drop_test = [index for index, sentence in enumerate(decoder_input_test) if len(sentence) == 1]\n",
    "\n",
    "print('삭제할 훈련 데이터의 개수 :', len(drop_train))\n",
    "print('삭제할 테스트 데이터의 개수 :', len(drop_test))\n",
    "\n",
    "encoder_input_train = [sentence for index, sentence in enumerate(encoder_input_train) if index not in drop_train]\n",
    "decoder_input_train = [sentence for index, sentence in enumerate(decoder_input_train) if index not in drop_train]\n",
    "decoder_target_train = [sentence for index, sentence in enumerate(decoder_target_train) if index not in drop_train]\n",
    "\n",
    "encoder_input_test = [sentence for index, sentence in enumerate(encoder_input_test) if index not in drop_test]\n",
    "decoder_input_test = [sentence for index, sentence in enumerate(decoder_input_test) if index not in drop_test]\n",
    "decoder_target_test = [sentence for index, sentence in enumerate(decoder_target_test) if index not in drop_test]\n",
    "\n",
    "print('훈련 데이터의 개수 :', len(encoder_input_train))\n",
    "print('훈련 레이블의 개수 :', len(decoder_input_train))\n",
    "print('테스트 데이터의 개수 :', len(encoder_input_test))\n",
    "print('테스트 레이블의 개수 :', len(decoder_input_test))"
   ]
  },
  {
   "cell_type": "code",
   "execution_count": 35,
   "id": "f3c4c738",
   "metadata": {},
   "outputs": [],
   "source": [
    "# 패딩하기\n",
    "\n",
    "# 텍스트 시퀀스를 정수 시퀀스로 변환했다면, \n",
    "# 이제 서로 다른 길이의 샘플들을 병렬 처리하기 위해 같은 길이로 맞춰주는 패딩 작업 진행.\n",
    "# 아까 정해두었던 최대 길이로 패딩. \n",
    "# 최대 길이보다 짧은 데이터들은 뒤의 공간에 숫자 0을 넣어 최대 길이로 길이를 맞춤."
   ]
  },
  {
   "cell_type": "code",
   "execution_count": 35,
   "id": "88d8a1a2",
   "metadata": {},
   "outputs": [],
   "source": [
    "# padding: pre 또는 post를 선택. (post는 뒤쪽에 패딩, pre는 앞쪽에 패딩)\n",
    "encoder_input_train = pad_sequences(encoder_input_train, maxlen=text_max_len, padding='post')\n",
    "encoder_input_test = pad_sequences(encoder_input_test, maxlen=text_max_len, padding='post')\n",
    "decoder_input_train = pad_sequences(decoder_input_train, maxlen=headlines_max_len, padding='post')\n",
    "decoder_target_train = pad_sequences(decoder_target_train, maxlen=headlines_max_len, padding='post')\n",
    "decoder_input_test = pad_sequences(decoder_input_test, maxlen=headlines_max_len, padding='post')\n",
    "decoder_target_test = pad_sequences(decoder_target_test, maxlen=headlines_max_len, padding='post')"
   ]
  },
  {
   "cell_type": "markdown",
   "id": "43146b89",
   "metadata": {},
   "source": [
    "### 모델 설계하기\n",
    "우선 함수형 API를 이용해서 인코더를 설계해 보기"
   ]
  },
  {
   "cell_type": "code",
   "execution_count": 36,
   "id": "2b209ec7",
   "metadata": {},
   "outputs": [],
   "source": [
    "from tensorflow.keras.layers import Input, LSTM, Embedding, Dense, Concatenate, TimeDistributed\n",
    "from tensorflow.keras.models import Model\n",
    "from tensorflow.keras.callbacks import EarlyStopping, ModelCheckpoint\n",
    "\n",
    "\n",
    "# 인코더 설계 시작\n",
    "embedding_dim = 128\n",
    "hidden_size = 256\n",
    "\n",
    "# 인코더\n",
    "encoder_inputs = Input(shape=(text_max_len,))\n",
    "\n",
    "# 인코더의 임베딩 층\n",
    "enc_emb = Embedding(src_vocab, embedding_dim)(encoder_inputs)\n",
    "\n",
    "# 인코더의 LSTM 1\n",
    "# encoder_lstm1 = LSTM(hidden_size, return_sequences=True, return_state=True ,dropout = 0.4, recurrent_dropout = 0.4)\n",
    "encoder_lstm1 = LSTM(hidden_size, return_sequences=True, return_state=True ,dropout = 0.4)\n",
    "encoder_output1, state_h1, state_c1 = encoder_lstm1(enc_emb)\n",
    "\n",
    "# 인코더의 LSTM 2\n",
    "encoder_lstm2 = LSTM(hidden_size, return_sequences=True, return_state=True, dropout=0.4)\n",
    "encoder_output2, state_h2, state_c2 = encoder_lstm2(encoder_output1)\n",
    "\n",
    "# 인코더의 LSTM 3\n",
    "encoder_lstm3 = LSTM(hidden_size, return_sequences=True, return_state=True, dropout=0.4)\n",
    "encoder_outputs, state_h, state_c = encoder_lstm3(encoder_output2)\n"
   ]
  },
  {
   "cell_type": "code",
   "execution_count": 37,
   "id": "06330f79",
   "metadata": {},
   "outputs": [],
   "source": [
    "# 디코더 설계\n",
    "decoder_inputs = Input(shape=(None,))\n",
    "\n",
    "# 디코더의 임베딩 층\n",
    "dec_emb_layer = Embedding(tar_vocab, embedding_dim)\n",
    "dec_emb = dec_emb_layer(decoder_inputs)\n",
    "\n",
    "# 디코더의 LSTM\n",
    "# decoder_lstm = LSTM(hidden_size, return_sequences=True, return_state=True, dropout=0.4, recurrent_dropout=0.2)\n",
    "decoder_lstm = LSTM(hidden_size, return_sequences=True, return_state=True, dropout=0.4)\n",
    "decoder_outputs, _, _ = decoder_lstm(dec_emb, initial_state=[state_h, state_c])"
   ]
  },
  {
   "cell_type": "code",
   "execution_count": 38,
   "id": "4ad7062c",
   "metadata": {},
   "outputs": [
    {
     "name": "stdout",
     "output_type": "stream",
     "text": [
      "Model: \"model\"\n",
      "__________________________________________________________________________________________________\n",
      "Layer (type)                    Output Shape         Param #     Connected to                     \n",
      "==================================================================================================\n",
      "input_1 (InputLayer)            [(None, 60)]         0                                            \n",
      "__________________________________________________________________________________________________\n",
      "embedding (Embedding)           (None, 60, 128)      2816000     input_1[0][0]                    \n",
      "__________________________________________________________________________________________________\n",
      "lstm (LSTM)                     [(None, 60, 256), (N 394240      embedding[0][0]                  \n",
      "__________________________________________________________________________________________________\n",
      "input_2 (InputLayer)            [(None, None)]       0                                            \n",
      "__________________________________________________________________________________________________\n",
      "lstm_1 (LSTM)                   [(None, 60, 256), (N 525312      lstm[0][0]                       \n",
      "__________________________________________________________________________________________________\n",
      "embedding_1 (Embedding)         (None, None, 128)    1280000     input_2[0][0]                    \n",
      "__________________________________________________________________________________________________\n",
      "lstm_2 (LSTM)                   [(None, 60, 256), (N 525312      lstm_1[0][0]                     \n",
      "__________________________________________________________________________________________________\n",
      "lstm_3 (LSTM)                   [(None, None, 256),  394240      embedding_1[0][0]                \n",
      "                                                                 lstm_2[0][1]                     \n",
      "                                                                 lstm_2[0][2]                     \n",
      "__________________________________________________________________________________________________\n",
      "dense (Dense)                   (None, None, 10000)  2570000     lstm_3[0][0]                     \n",
      "==================================================================================================\n",
      "Total params: 8,505,104\n",
      "Trainable params: 8,505,104\n",
      "Non-trainable params: 0\n",
      "__________________________________________________________________________________________________\n"
     ]
    }
   ],
   "source": [
    "# 디코더의 출력층\n",
    "decoder_softmax_layer = Dense(tar_vocab, activation='softmax')\n",
    "decoder_softmax_outputs = decoder_softmax_layer(decoder_outputs) \n",
    "\n",
    "# 모델 정의\n",
    "model = Model([encoder_inputs, decoder_inputs], decoder_softmax_outputs)\n",
    "model.summary()"
   ]
  },
  {
   "cell_type": "code",
   "execution_count": 39,
   "id": "877705d6",
   "metadata": {},
   "outputs": [
    {
     "name": "stdout",
     "output_type": "stream",
     "text": [
      "Model: \"model_1\"\n",
      "__________________________________________________________________________________________________\n",
      "Layer (type)                    Output Shape         Param #     Connected to                     \n",
      "==================================================================================================\n",
      "input_1 (InputLayer)            [(None, 60)]         0                                            \n",
      "__________________________________________________________________________________________________\n",
      "embedding (Embedding)           (None, 60, 128)      2816000     input_1[0][0]                    \n",
      "__________________________________________________________________________________________________\n",
      "lstm (LSTM)                     [(None, 60, 256), (N 394240      embedding[0][0]                  \n",
      "__________________________________________________________________________________________________\n",
      "input_2 (InputLayer)            [(None, None)]       0                                            \n",
      "__________________________________________________________________________________________________\n",
      "lstm_1 (LSTM)                   [(None, 60, 256), (N 525312      lstm[0][0]                       \n",
      "__________________________________________________________________________________________________\n",
      "embedding_1 (Embedding)         (None, None, 128)    1280000     input_2[0][0]                    \n",
      "__________________________________________________________________________________________________\n",
      "lstm_2 (LSTM)                   [(None, 60, 256), (N 525312      lstm_1[0][0]                     \n",
      "__________________________________________________________________________________________________\n",
      "lstm_3 (LSTM)                   [(None, None, 256),  394240      embedding_1[0][0]                \n",
      "                                                                 lstm_2[0][1]                     \n",
      "                                                                 lstm_2[0][2]                     \n",
      "__________________________________________________________________________________________________\n",
      "attention_layer (AdditiveAttent (None, None, 256)    256         lstm_3[0][0]                     \n",
      "                                                                 lstm_2[0][0]                     \n",
      "__________________________________________________________________________________________________\n",
      "concat_layer (Concatenate)      (None, None, 512)    0           lstm_3[0][0]                     \n",
      "                                                                 attention_layer[0][0]            \n",
      "__________________________________________________________________________________________________\n",
      "dense_1 (Dense)                 (None, None, 10000)  5130000     concat_layer[0][0]               \n",
      "==================================================================================================\n",
      "Total params: 11,065,360\n",
      "Trainable params: 11,065,360\n",
      "Non-trainable params: 0\n",
      "__________________________________________________________________________________________________\n"
     ]
    }
   ],
   "source": [
    "from tensorflow.keras.layers import AdditiveAttention\n",
    "\n",
    "# 어텐션 층(어텐션 함수)\n",
    "attn_layer = AdditiveAttention(name='attention_layer')\n",
    "\n",
    "# 인코더와 디코더의 모든 time step의 hidden state를 어텐션 층에 전달하고 결과를 리턴\n",
    "attn_out = attn_layer([decoder_outputs, encoder_outputs])\n",
    "\n",
    "\n",
    "# 어텐션의 결과와 디코더의 hidden state들을 연결\n",
    "decoder_concat_input = Concatenate(axis=-1, name='concat_layer')([decoder_outputs, attn_out])\n",
    "\n",
    "# 디코더의 출력층\n",
    "decoder_softmax_layer = Dense(tar_vocab, activation='softmax')\n",
    "decoder_softmax_outputs = decoder_softmax_layer(decoder_concat_input)\n",
    "\n",
    "# 모델 정의\n",
    "model = Model([encoder_inputs, decoder_inputs], decoder_softmax_outputs)\n",
    "model.summary()"
   ]
  },
  {
   "cell_type": "code",
   "execution_count": 40,
   "id": "f2f81daf",
   "metadata": {},
   "outputs": [
    {
     "name": "stdout",
     "output_type": "stream",
     "text": [
      "Model: \"model_2\"\n",
      "__________________________________________________________________________________________________\n",
      "Layer (type)                    Output Shape         Param #     Connected to                     \n",
      "==================================================================================================\n",
      "input_1 (InputLayer)            [(None, 60)]         0                                            \n",
      "__________________________________________________________________________________________________\n",
      "embedding (Embedding)           (None, 60, 128)      2816000     input_1[0][0]                    \n",
      "__________________________________________________________________________________________________\n",
      "lstm (LSTM)                     [(None, 60, 256), (N 394240      embedding[0][0]                  \n",
      "__________________________________________________________________________________________________\n",
      "input_2 (InputLayer)            [(None, None)]       0                                            \n",
      "__________________________________________________________________________________________________\n",
      "lstm_1 (LSTM)                   [(None, 60, 256), (N 525312      lstm[0][0]                       \n",
      "__________________________________________________________________________________________________\n",
      "embedding_1 (Embedding)         (None, None, 128)    1280000     input_2[0][0]                    \n",
      "__________________________________________________________________________________________________\n",
      "lstm_2 (LSTM)                   [(None, 60, 256), (N 525312      lstm_1[0][0]                     \n",
      "__________________________________________________________________________________________________\n",
      "lstm_3 (LSTM)                   [(None, None, 256),  394240      embedding_1[0][0]                \n",
      "                                                                 lstm_2[0][1]                     \n",
      "                                                                 lstm_2[0][2]                     \n",
      "__________________________________________________________________________________________________\n",
      "attention_layer (AdditiveAttent (None, None, 256)    256         lstm_3[0][0]                     \n",
      "                                                                 lstm_2[0][0]                     \n",
      "__________________________________________________________________________________________________\n",
      "concat_layer (Concatenate)      (None, None, 512)    0           lstm_3[0][0]                     \n",
      "                                                                 attention_layer[0][0]            \n",
      "__________________________________________________________________________________________________\n",
      "dense_2 (Dense)                 (None, None, 10000)  5130000     concat_layer[0][0]               \n",
      "==================================================================================================\n",
      "Total params: 11,065,360\n",
      "Trainable params: 11,065,360\n",
      "Non-trainable params: 0\n",
      "__________________________________________________________________________________________________\n"
     ]
    }
   ],
   "source": [
    "from tensorflow.keras.layers import AdditiveAttention\n",
    "\n",
    "# 어텐션 층(어텐션 함수)\n",
    "attn_layer = AdditiveAttention(name='attention_layer')\n",
    "\n",
    "# 인코더와 디코더의 모든 time step의 hidden state를 어텐션 층에 전달하고 결과를 리턴\n",
    "attn_out = attn_layer([decoder_outputs, encoder_outputs])\n",
    "\n",
    "\n",
    "# 어텐션의 결과와 디코더의 hidden state들을 연결\n",
    "decoder_concat_input = Concatenate(axis=-1, name='concat_layer')([decoder_outputs, attn_out])\n",
    "\n",
    "# 디코더의 출력층\n",
    "decoder_softmax_layer = Dense(tar_vocab, activation='softmax')\n",
    "decoder_softmax_outputs = decoder_softmax_layer(decoder_concat_input)\n",
    "\n",
    "# 모델 정의\n",
    "model = Model([encoder_inputs, decoder_inputs], decoder_softmax_outputs)\n",
    "model.summary()"
   ]
  },
  {
   "cell_type": "markdown",
   "id": "d3ef0c2c",
   "metadata": {},
   "source": [
    "### 모델 훈련하기\n",
    "설계한 모델을 가지고 훈련을 진행."
   ]
  },
  {
   "cell_type": "code",
   "execution_count": 41,
   "id": "78ef8565",
   "metadata": {},
   "outputs": [
    {
     "name": "stdout",
     "output_type": "stream",
     "text": [
      "Epoch 1/50\n",
      "308/308 [==============================] - 80s 137ms/step - loss: 4.2737 - val_loss: 3.8892\n",
      "Epoch 2/50\n",
      "308/308 [==============================] - 42s 138ms/step - loss: 3.7809 - val_loss: 3.6290\n",
      "Epoch 3/50\n",
      "308/308 [==============================] - 44s 142ms/step - loss: 3.5411 - val_loss: 3.4460\n",
      "Epoch 4/50\n",
      "308/308 [==============================] - 43s 140ms/step - loss: 3.3531 - val_loss: 3.3235\n",
      "Epoch 5/50\n",
      "308/308 [==============================] - 43s 141ms/step - loss: 3.2020 - val_loss: 3.2029\n",
      "Epoch 6/50\n",
      "308/308 [==============================] - 43s 141ms/step - loss: 3.0739 - val_loss: 3.1219\n",
      "Epoch 7/50\n",
      "308/308 [==============================] - 43s 141ms/step - loss: 2.9632 - val_loss: 3.0567\n",
      "Epoch 8/50\n",
      "308/308 [==============================] - 43s 141ms/step - loss: 2.8662 - val_loss: 2.9967\n",
      "Epoch 9/50\n",
      "308/308 [==============================] - 43s 141ms/step - loss: 2.7825 - val_loss: 2.9505\n",
      "Epoch 10/50\n",
      "308/308 [==============================] - 43s 141ms/step - loss: 2.7056 - val_loss: 2.9137\n",
      "Epoch 11/50\n",
      "308/308 [==============================] - 43s 141ms/step - loss: 2.6359 - val_loss: 2.8909\n",
      "Epoch 12/50\n",
      "308/308 [==============================] - 43s 141ms/step - loss: 2.5741 - val_loss: 2.8570\n",
      "Epoch 13/50\n",
      "308/308 [==============================] - 43s 141ms/step - loss: 2.5174 - val_loss: 2.8389\n",
      "Epoch 14/50\n",
      "308/308 [==============================] - 43s 141ms/step - loss: 2.4663 - val_loss: 2.8204\n",
      "Epoch 15/50\n",
      "308/308 [==============================] - 43s 141ms/step - loss: 2.4214 - val_loss: 2.8053\n",
      "Epoch 16/50\n",
      "308/308 [==============================] - 43s 141ms/step - loss: 2.3770 - val_loss: 2.7935\n",
      "Epoch 17/50\n",
      "308/308 [==============================] - 43s 141ms/step - loss: 2.3355 - val_loss: 2.7825\n",
      "Epoch 18/50\n",
      "308/308 [==============================] - 43s 141ms/step - loss: 2.2941 - val_loss: 2.7763\n",
      "Epoch 19/50\n",
      "308/308 [==============================] - 43s 141ms/step - loss: 2.2545 - val_loss: 2.7668\n",
      "Epoch 20/50\n",
      "308/308 [==============================] - 43s 141ms/step - loss: 2.2206 - val_loss: 2.7649\n",
      "Epoch 21/50\n",
      "308/308 [==============================] - 43s 141ms/step - loss: 2.1884 - val_loss: 2.7605\n",
      "Epoch 22/50\n",
      "308/308 [==============================] - 43s 141ms/step - loss: 2.1583 - val_loss: 2.7644\n",
      "Epoch 23/50\n",
      "308/308 [==============================] - 43s 141ms/step - loss: 2.1303 - val_loss: 2.7543\n",
      "Epoch 24/50\n",
      "308/308 [==============================] - 43s 141ms/step - loss: 2.1028 - val_loss: 2.7506\n",
      "Epoch 25/50\n",
      "308/308 [==============================] - 43s 141ms/step - loss: 2.0754 - val_loss: 2.7524\n",
      "Epoch 26/50\n",
      "308/308 [==============================] - 43s 141ms/step - loss: 2.0480 - val_loss: 2.7527\n",
      "Epoch 00026: early stopping\n"
     ]
    }
   ],
   "source": [
    "model.compile(optimizer='rmsprop', loss='sparse_categorical_crossentropy')\n",
    "es = EarlyStopping(monitor='val_loss', patience=2, verbose=1)\n",
    "history = model.fit(x=[encoder_input_train, decoder_input_train], y=decoder_target_train, \\\n",
    "          validation_data=([encoder_input_test, decoder_input_test], decoder_target_test), \\\n",
    "          batch_size=256, callbacks=[es], epochs=50)"
   ]
  },
  {
   "cell_type": "code",
   "execution_count": 42,
   "id": "9ccd1eb7",
   "metadata": {},
   "outputs": [
    {
     "data": {
      "image/png": "[encoded data removed]",
      "text/plain": [
       "<Figure size 432x288 with 1 Axes>"
      ]
     },
     "metadata": {
      "needs_background": "light"
     },
     "output_type": "display_data"
    }
   ],
   "source": [
    "plt.plot(history.history['loss'], label='train')\n",
    "plt.plot(history.history['val_loss'], label='test')\n",
    "plt.legend()\n",
    "plt.show()"
   ]
  },
  {
   "cell_type": "code",
   "execution_count": 43,
   "id": "61e923c6",
   "metadata": {},
   "outputs": [],
   "source": [
    "src_index_to_word = src_tokenizer.index_word # 원문 단어 집합에서 정수 -> 단어를 얻음\n",
    "tar_word_to_index = tar_tokenizer.word_index # 요약 단어 집합에서 단어 -> 정수를 얻음\n",
    "tar_index_to_word = tar_tokenizer.index_word # 요약 단어 집합에서 정수 -> 단어를 얻음"
   ]
  },
  {
   "cell_type": "code",
   "execution_count": 44,
   "id": "7c70c7d1",
   "metadata": {},
   "outputs": [],
   "source": [
    "# 인코더 설계\n",
    "encoder_model = Model(inputs=encoder_inputs, outputs=[encoder_outputs, state_h, state_c])\n",
    "\n",
    "# 이전 시점의 상태들을 저장하는 텐서\n",
    "decoder_state_input_h = Input(shape=(hidden_size,))\n",
    "decoder_state_input_c = Input(shape=(hidden_size,))\n",
    "\n",
    "dec_emb2 = dec_emb_layer(decoder_inputs)\n",
    "\n",
    "# 문장의 다음 단어를 예측하기 위해서 초기 상태(initial_state)를 이전 시점의 상태로 사용. 이는 뒤의 함수 decode_sequence()에 구현\n",
    "# 훈련 과정에서와 달리 LSTM의 리턴하는 은닉 상태와 셀 상태인 state_h와 state_c를 버리지 않음.\n",
    "decoder_outputs2, state_h2, state_c2 = decoder_lstm(dec_emb2, initial_state=[decoder_state_input_h, decoder_state_input_c])"
   ]
  },
  {
   "cell_type": "code",
   "execution_count": 45,
   "id": "2dea3859",
   "metadata": {},
   "outputs": [],
   "source": [
    "# 어텐션 함수\n",
    "decoder_hidden_state_input = Input(shape=(text_max_len, hidden_size))\n",
    "attn_out_inf = attn_layer([decoder_outputs2, decoder_hidden_state_input])\n",
    "decoder_inf_concat = Concatenate(axis=-1, name='concat')([decoder_outputs2, attn_out_inf])\n",
    "\n",
    "# 디코더의 출력층\n",
    "decoder_outputs2 = decoder_softmax_layer(decoder_inf_concat) \n",
    "\n",
    "# 최종 디코더 모델\n",
    "decoder_model = Model(\n",
    "    [decoder_inputs] + [decoder_hidden_state_input,decoder_state_input_h, decoder_state_input_c],\n",
    "    [decoder_outputs2] + [state_h2, state_c2])"
   ]
  },
  {
   "cell_type": "code",
   "execution_count": 49,
   "id": "703c8f9c",
   "metadata": {
    "scrolled": true
   },
   "outputs": [],
   "source": [
    "def decode_sequence(input_seq):\n",
    "    # 입력으로부터 인코더의 상태를 얻음\n",
    "    e_out, e_h, e_c = encoder_model.predict(input_seq)\n",
    "\n",
    "     # <SOS>에 해당하는 토큰 생성\n",
    "    target_seq = np.zeros((1,1))\n",
    "    target_seq[0, 0] = tar_word_to_index['sostoken']\n",
    "\n",
    "    stop_condition = False\n",
    "    decoded_sentence = ''\n",
    "    while not stop_condition: # stop_condition이 True가 될 때까지 루프 반복\n",
    "\n",
    "        output_tokens, h, c = decoder_model.predict([target_seq] + [e_out, e_h, e_c])\n",
    "        sampled_token_index = np.argmax(output_tokens[0, -1, :])\n",
    "        sampled_token = tar_index_to_word[sampled_token_index]\n",
    "\n",
    "        if (sampled_token!='eostoken'):\n",
    "            decoded_sentence += ' '+sampled_token\n",
    "\n",
    "        #  <eos>에 도달하거나 최대 길이를 넘으면 중단.\n",
    "        if (sampled_token == 'eostoken'  or len(decoded_sentence.split()) >= (headlines_max_len-1)):\n",
    "            stop_condition = True\n",
    "\n",
    "        # 길이가 1인 타겟 시퀀스를 업데이트\n",
    "        target_seq = np.zeros((1,1))\n",
    "        target_seq[0, 0] = sampled_token_index\n",
    "\n",
    "        # 상태를 업데이트 합니다.\n",
    "        e_h, e_c = h, c\n",
    "\n",
    "    return decoded_sentence"
   ]
  },
  {
   "cell_type": "markdown",
   "id": "3c69ba12",
   "metadata": {},
   "source": [
    "### 모델 테스트하기\n",
    "정수 시퀀스를 텍스트 시퀀스로 변환하여 결과를 확인해 봄.  \n",
    "주어진 정수 시퀀스를 텍스트 시퀀스로 변환하는 함수 생성. Text의 정수 시퀀스에서는 패딩을 위해 사용되는 숫자 0을 제외하고 headlines의 정수 시퀀스에서는 숫자 0, 시작 토큰의 인덱스, 종료 토큰의 인덱스를 출력에서 제외되도록 만듬.  "
   ]
  },
  {
   "cell_type": "code",
   "execution_count": 47,
   "id": "2636d694",
   "metadata": {},
   "outputs": [],
   "source": [
    "# 원문의 정수 시퀀스를 텍스트 시퀀스로 변환\n",
    "def seq2text(input_seq):\n",
    "    temp=''\n",
    "    for i in input_seq:\n",
    "        if (i!=0):\n",
    "            temp = temp + src_index_to_word[i]+' '\n",
    "    return temp\n",
    "\n",
    "# 요약문의 정수 시퀀스를 텍스트 시퀀스로 변환\n",
    "def seq2headlines(input_seq):\n",
    "    temp = ''\n",
    "    for i in input_seq:\n",
    "        # 패딩(0), 시작 토큰(sostoken), 종료 토큰(eostoken)을 제외\n",
    "        if (i != 0 and i != tar_word_to_index['sostoken'] and i != tar_word_to_index['eostoken']):\n",
    "            temp = temp + tar_index_to_word[i] + ' '\n",
    "    return temp.strip()"
   ]
  },
  {
   "cell_type": "code",
   "execution_count": 50,
   "id": "e3164f2e",
   "metadata": {},
   "outputs": [
    {
     "name": "stdout",
     "output_type": "stream",
     "text": [
      "원문 : supreme court tuesday directed temples mathura vrindavan donate flowers offered widows women shelter homes women use flowers make incense sticks earn means livelihood court added also sought government consideration extending scheme \n",
      "실제 요약 : donate temple flowers to widows in mathura sc\n",
      "예측 요약 :  sc slams women for not paying for cow slaughter\n",
      "\n",
      "\n",
      "원문 : year old man arrested uttar pradesh confessed raping killing least nine girls aged three seven past two years gurugram police said wednesday officer said used first break legs victims attempting rape caught rape murder three year old last week \n",
      "실제 요약 : yr old man admits killing girls broke their legs before rape\n",
      "예측 요약 :  year old girl raped by mob in madhya pradesh\n",
      "\n",
      "\n",
      "원문 : file transfer service president offered lakh fired employees soundcloud open letter said offered amount loan equity exchange fund build something new comes internet collectively created hire connect hiring companies ex employees \n",
      "실제 요약 : offers to each fired employee\n",
      "예측 요약 :  bsnl to sell workers to sell unpaid costs\n",
      "\n",
      "\n",
      "원문 : parliamentary panel asked finance ministry launch comprehensive enquiry billion pnb fraud submit report within month panel said extremely concerned fraud shows small group individuals manipulate bank fraud jewellers nirav modi mehul choksi \n",
      "실제 요약 : parliamentary panel seeks report on pnb fraud within month\n",
      "예측 요약 :  govt to probe bn in pnb scam case\n",
      "\n",
      "\n",
      "원문 : speaking world economic forum alibaba founder jack part secret sauce company success many women colleagues year old said women sacrifice love continue added alibaba women care others much men \n",
      "실제 요약 : secret of success is that we have women colleagues ma\n",
      "예측 요약 :  billionaire is not billionaire billionaire\n",
      "\n",
      "\n",
      "원문 : vast underground passage discovered underneath canadian city montreal passage whose formation dates years ago earth last ice age discovered amateur drilled wall existing cave following discovery montreal city commissioned study cave determine exact extent depth \n",
      "실제 요약 : ice age era passage discovered under canadian city\n",
      "예측 요약 :  scientists find ice eating ice\n",
      "\n",
      "\n",
      "원문 : first time nation history saudi arabia women participated female marathon three km long marathon held eastern province al saturday reportedly saw participation women across several categories earlier january saudi arabia allowed women first time football match \n",
      "실제 요약 : all female marathon held in saudi arabia for the first time\n",
      "예측 요약 :  saudi arabia to be opened in saudi arabia\n",
      "\n",
      "\n",
      "원문 : social networking site facebook said pm narendra modi talked lok sabha mp cricketer sachin tendulkar talked rajya sabha mp platform also revealed uttar pradesh cm yogi adityanath popular among state leaders followed rajasthan cm vasundhara raje \n",
      "실제 요약 : pm modi sachin most talked about mps on facebook in\n",
      "예측 요약 :  sachin tendulkar first states to be pm modi\n",
      "\n",
      "\n",
      "원문 : patel davis us presidential medal work sex slavery labour exploitation white house ceremony attended president donald trump davis special adviser human trafficking houston mayor past speaker un world humanitarian summit davis recently travelled india canada discuss municipal leadership human trafficking \n",
      "실제 요약 : indian origin woman wins top us honour for sex slavery\n",
      "예측 요약 :  ex us prez trump to become sexual harassment\n",
      "\n",
      "\n",
      "원문 : hasan ali become first pakistani pacer years top icc odi bowlers rankings ali pakistani fast bowler top ranked odis wasim akram last held spot world cup second spot rankings currently held pakistan born south african spinner imran tahir \n",
      "실제 요약 : pakistani pacer tops odi bowlers rankings after years\n",
      "예측 요약 :  pak bowler to become world number odi rankings\n",
      "\n",
      "\n",
      "원문 : least two army personnel reportedly killed two others injured blast near line control jammu kashmir sector saturday blast reportedly took place army men patrolling area army official said accidental blast investigation going \n",
      "실제 요약 : soldiers killed injured in mine blast in\n",
      "예측 요약 :  civilians killed in blast at army headquarters in\n",
      "\n",
      "\n",
      "원문 : production house nadiadwala grandson entertainment took twitter announce upcoming film baaghi star tiger shroff makers yet announce female lead film directed choreographer turned director ahmed khan ahmed also directing film franchise second film baaghi \n",
      "실제 요약 : tiger to star in baaghi actress yet to be announced\n",
      "예측 요약 :  tiger shroff to star in sequel\n",
      "\n",
      "\n",
      "원문 : trailer filmmaker madhur bhandarkar short film mumbai released film stars annu kapoor revolves around beautiful bond old man orphan ragpicker kid bhandarkar representing india brics film festival short film part magnificent five directors collaboration project \n",
      "실제 요약 : trailer of madhur bhandarkar short film mumbai out\n",
      "예측 요약 :  trailer of huma starrer marathi film released\n",
      "\n",
      "\n",
      "원문 : india friday launched communications satellite gift south asian neighbours sri lanka nepal pakistan share however pakistan said working satellite sign make use satellite participating countries offered television services communications technology indian government said \n",
      "실제 요약 : india says satellite is its gift to south asia\n",
      "예측 요약 :  india to launch its st ever ever mission in years\n",
      "\n",
      "\n",
      "원문 : hillary clinton sunday called donald trump inaugural speech president cry white nationalist gut said sitting trump sworn body experience hillary also accepted decision us secretary state use private email server sharing official information mistake \n",
      "실제 요약 : trump speech was cry from white hillary\n",
      "예측 요약 :  trump clinton clinton to run in us\n",
      "\n",
      "\n",
      "원문 : us give pakistan even dollar acts terrorism outgoing us ambassador un nikki haley said think blindly allow money keep going without thinking real added haley said pakistan continues harbour terrorists turn around kill us soldiers \n",
      "실제 요약 : us should not give pak even dollar until it acts on terror haley\n",
      "예측 요약 :  pak will not allow us to fight pak envoy to pak\n",
      "\n",
      "\n",
      "원문 : delhi based edtech startup raised crore series round funding valuation around crore investment came cash deal existing investor info edge india parent online job portal shareholding increasing info edge picked around stake november \n",
      "실제 요약 : delhi startup raises cr at cr valuation\n",
      "예측 요약 :  startup raises crore from sequoia others\n",
      "\n",
      "\n",
      "원문 : team india captain virat kohli accepted cricket legend sachin tendulkar challenge shared video wearing cricket kit year old took one minute wear kit nominated indian wicketkeeper batsman parthiv patel take challenge sachin started challenge urging indians play favourite sport share videos \n",
      "실제 요약 : kohli accepts sachin challenge wears kit in min\n",
      "예측 요약 :  kohli tendulkar shares video of sachin tendulkar\n",
      "\n",
      "\n",
      "원문 : south korean researchers claimed identify gas frozen mixture water natural gas form oceans team found negatively charged minerals clay rich oceanic deposits promote formation gas soon able commercially produce methane gas natural gas deposits said researchers \n",
      "실제 요약 : scientists how ice forms under the sea\n",
      "예측 요약 :  us scientists build water that can water water\n",
      "\n",
      "\n",
      "원문 : journalist tweeted served apple wrapped plastic asked vegetarian meal flying colombian airline following airline responded would investigate matter meanwhile journalist said would give recipe ideas twitter users shared similar experiences \n",
      "실제 요약 : man served apple after asking for in flight veg meal\n",
      "예측 요약 :  us apologises for calling girls to stop\n",
      "\n",
      "\n",
      "원문 : bihar chief minister nitish kumar saturday said convinced grand alliance would last long first day formation added alternative forming coalition bjp situation become difficult started affecting governance lower levels \n",
      "실제 요약 : knew the grand alliance would not last long bihar cm\n",
      "예측 요약 :  nitish kumar to be made in bihar bihar dy cm\n",
      "\n",
      "\n",
      "원문 : first pictures actress priyanka chopra husband american singer nick jonas mumbai reception surfaced online reception marriott held priyanka nick extended family friends well media couple got married earlier month host another reception thursday bollywood celebrities \n",
      "실제 요약 : priyanka nick host wedding reception in mumbai st pics out\n",
      "예측 요약 :  priyanka nick shares pic with priyanka nick at her home\n",
      "\n",
      "\n",
      "원문 : twitter handle chennai super kings shared video ranveer singh says came see hero jaan mahendra singh dhoni lion action actor attended match csk sunrisers hyderabad tuesday added captained absolutely always \n",
      "실제 요약 : came to see my jaan dhoni ranveer on csk match with srh\n"
     ]
    },
    {
     "name": "stdout",
     "output_type": "stream",
     "text": [
      "예측 요약 :  dhoni is like csk player who played him\n",
      "\n",
      "\n",
      "원문 : government considering proposal remove charles darwin theory evolution school college mos satya pal singh said interestingly minister earlier claimed theory scientifically wrong said taught students also said neither mentioned ancient texts nana nani tales \n",
      "실제 요약 : minister who slammed darwin theory says govt not removing it\n",
      "예측 요약 :  was told to be made to make up university minister\n",
      "\n",
      "\n",
      "원문 : filmmaker ram gopal varma twitter took dig filmmaker anurag kashyap company phantom films queen created various number people company created one single king read one varma tweets comes vikas bahl co founder company accused sexual harassment recently \n",
      "실제 요약 : rgv takes dig at anurag kashyap films on twitter\n",
      "예측 요약 :  rgv reacts to rgv over metoo\n",
      "\n",
      "\n",
      "원문 : england cricket team train unique spin bowling machine known prepare indian chinaman bowler kuldeep yadav took five wickets first machine replicate bowling angle introduced ahead ashes prepare spin legend shane warne kuldeep taken wickets last three \n",
      "실제 요약 : england turn to bowling machine to counter kuldeep\n",
      "예측 요약 :  david warner helps mi players wear test team\n",
      "\n",
      "\n",
      "원문 : several airlines including spicejet vistara operated flights featuring woman crew international women day thursday vistara said would also offer priority boarding women travellers meanwhile air india express budget arm air india organised functions offices felicitate women workforce \n",
      "실제 요약 : spicejet vistara operate all woman crew flights\n",
      "예측 요약 :  flight to be removed from india in india\n",
      "\n",
      "\n",
      "원문 : mumbai police arrested constable allegedly driving police van inebriated condition duty sunday constable taken van refuelling bikers stopped noticing driving vehicle manner constable booked various sections motor vehicles act \n",
      "실제 요약 : mumbai cop arrested for drunken driving while on duty\n",
      "예측 요약 :  drunk men arrested for drunk woman in mumbai\n",
      "\n",
      "\n",
      "원문 : pakistan sunday rejected india request consular access kulbhushan jadhav time saying ordinary citizen pakistan foreign office claimed sent indian intelligence agency killed several innocent pakistanis jadhav sentenced death pakistani military court april charges espionage \n",
      "실제 요약 : pak denies india consular access to kulbhushan for th time\n",
      "예측 요약 :  pak rejects pak request for kulbhushan jadhav\n",
      "\n",
      "\n",
      "원문 : propaganda poster released pro isis media foundation threatened attack vatican christmas poster obtained site intelligence group monitors isis online activities earlier year pro isis group released video calling attacks pope francis catholic icons destroyed \n",
      "실제 요약 : isis poster threatens christmas attack on the vatican\n",
      "예측 요약 :  isis releases poster of isis terror attack in us\n",
      "\n",
      "\n",
      "원문 : actress neha dhupia said people upon wearing loose clothes gaining weight announced pregnancy added matter people think long healthy neha expecting first child husband angad bedi announced pregnancy three months marriage \n",
      "실제 요약 : was for weight gain clothes neha\n",
      "예측 요약 :  neha dhupia should have neha pregnancy\n",
      "\n",
      "\n",
      "원문 : jihadist group al shabaab announced ban plastic bags territories controls saying discarded bags pose serious threat well humans animals alike group also issued immediate ban logging indigenous trees notably al qaeda affiliate carried suicide attacks across east africa \n",
      "실제 요약 : announce ban on plastic bags to protect humans\n",
      "예측 요약 :  ban banned in egypt over ban on sale of plastic bags\n",
      "\n",
      "\n",
      "원문 : talking interacting people shooting public places actor rishi kapoor said sometimes become unruly start abusing hitting times turn away however rishi also said public behaves well also extend \n",
      "실제 요약 : when people start abusing you have to turn them away rishi\n",
      "예측 요약 :  was an at the mumbai when was in the theatres\n",
      "\n",
      "\n",
      "원문 : president ram nath kovind sunday approved election commission recommendation disqualify aam aadmi party mlas holding offices profit leaves aap seats member delhi assembly lead polls aap earlier moved delhi high court ec recommendation court refused stay \n",
      "실제 요약 : aap mlas disqualified for holding offices of profit\n",
      "예측 요약 :  aap mlas to be in law on babri masjid case\n",
      "\n",
      "\n",
      "원문 : former fbi director james comey compared us president donald trump mob boss book higher loyalty truth lies leadership detailing interactions president comey revealed trump discussed allegations invited prostitutes hotel room trump fired comey handling hillary clinton email investigation \n",
      "실제 요약 : former fbi chief compares trump to mob boss in new book\n",
      "예측 요약 :  trump slams ex fbi chief comey over sexual harassment\n",
      "\n",
      "\n",
      "원문 : least policemen killed around people injured attack taliban militants police headquarters afghanistan province according reports suicide attacker reportedly detonated car packed explosives entrance police compound make way insurgents headquarters \n",
      "실제 요약 : killed as taliban militants storm police hq in afghanistan\n",
      "예측 요약 :  killed injured in taliban attack in afghanistan\n",
      "\n",
      "\n",
      "원문 : north korea monday said country continue ignore japan unless neighbour large scale military drills efforts boost military readiness japan break past show towards peace said comes amid reports japan planning summit north korean leader kim jong un \n",
      "실제 요약 : will ignore japan until it scraps military drills korea\n",
      "예측 요약 :  us will not have any nuclear weapons korea\n",
      "\n",
      "\n",
      "원문 : migrants right choose host nation un refugee agency said unhcr added nations obligations save lives afford protection refugees hailed efforts european nations including france germany italy processing asylum around refugees migrants stranded mediterranean \n",
      "실제 요약 : migrants do not have right to pick host nation un\n",
      "예측 요약 :  un urges un to un on un rights for rohingyas\n",
      "\n",
      "\n",
      "원문 : kannada film murdered journalist gauri lankesh made director ramesh ramesh knew gauri lankesh personally said shocking see lie pool blood day never accept killing added focus killed gauri done clarity \n",
      "실제 요약 : kannada film on murdered journalist gauri lankesh to be made\n",
      "예측 요약 :  gauri lankesh was on my life says sit\n",
      "\n",
      "\n",
      "원문 : number firms including apple amazon facebook google condemned us president donald trump reported plans transgenders reduce legal protection changing gender harms transgender people harms companies read letter signed companies letter called equality law transgender people \n",
      "실제 요약 : apple google criticise us plans to transgenders\n",
      "예측 요약 :  google to allow cameo to avoid hate scenes in us\n",
      "\n",
      "\n",
      "원문 : russia fined lakh fifa racist chants fans friendly france st petersburg march manchester united midfielder paul pogba barcelona said among subjected monkey chants france victory stadium match held host seven world cup games \n",
      "실제 요약 : russia fined lakh over monkey chants in france match\n",
      "예측 요약 :  russia ban russian player during wc match\n",
      "\n",
      "\n",
      "원문 : police arrested year old man allegedly posing doctor delhi aiims giving training patients roaming hospital wearing white coat intercepted security guards upon police interrogation claimed pregnant wife admitted hospital wanted easy access wards \n",
      "실제 요약 : fake doctor who gave training to patients at aiims arrested\n",
      "예측 요약 :  man arrested for throwing babies with them in delhi\n",
      "\n",
      "\n",
      "원문 : sri lanka rounder thisara perera smashed second odi new zealand saturday year old took balls reach three figure mark slammed sixes sri lankan batsman odi innings perera overtook sanath jayasuriya slammed sixes odi pakistan \n",
      "실제 요약 : sl slams sixes scores breaks yr old record\n",
      "예측 요약 :  sl pacer takes wickets in balls in odi cricket\n",
      "\n",
      "\n",
      "원문 : per reports income tax appellate tribunal asked actress priyanka chopra include lakh watch lakh toyota car received gifts taxable income priyanka reportedly shown watch car gifts companies order said cover four years financial year onwards \n",
      "실제 요약 : priyanka asked to pay tax for gifts like watch report\n",
      "예측 요약 :  priyanka chopra invests in bengaluru\n",
      "\n",
      "\n",
      "원문 : many people including security personnel killed terrorist attacks bomb blasts india may ministry home affairs revealed rti reply major terror attacks period mumbai serial bomb blasts mumbai terror attacks express bombing \n",
      "실제 요약 : over killed in terrorist attacks between mha\n",
      "예측 요약 :  terrorists killed in terror attack in pak\n",
      "\n",
      "\n",
      "원문 : replying twitter account named elon musk saturday tweeted secret troll account time people knew asked serious musk also said would really let someone get away using name time comes troll account commented musk fortnite tweet \n",
      "실제 요약 : is my secret troll account jokes elon musk\n"
     ]
    },
    {
     "name": "stdout",
     "output_type": "stream",
     "text": [
      "예측 요약 :  we do not have to your love to your musk on musk musk\n",
      "\n",
      "\n",
      "원문 : indian railways earned crore cancellation reserved tickets request passengers fy earnings reserved ticket cancellations crore crore crore data released centre railway information systems response rti query \n",
      "실제 요약 : railways earned cr from ticket in fy\n",
      "예측 요약 :  railways to pay crore to crore in sept\n",
      "\n",
      "\n",
      "원문 : zaira wasim aamir khan starrer secret superstar become nominated film filmfare awards bagging nominations nine categories including best film best director zaira wasim nominated best actor leading role category meanwhile ayushmann khurrana kriti sanon rajkummar rao bareilly ki barfi received eight nominations \n",
      "실제 요약 : secret superstar bags most nominations at filmfare awards\n",
      "예측 요약 :  dangal becomes st indian film to earn remake of dangal\n",
      "\n",
      "\n",
      "원문 : india took podium claiming medals men high jump event asian para games indonesia thursday defending champion sharad kumar gold medal varun bhati picked silver bronze respectively notably kumar broke asian games record claim gold medal \n",
      "실제 요약 : india win gold silver bronze in asian para men high jump\n",
      "예측 요약 :  india wins th asian para athletics championship\n",
      "\n",
      "\n",
      "원문 : tara actor speaking rape accused alok nath said heard nice person day evening drinks gets crazy abuses sorts things normal alok ji would never even think added said know much truth lies stories \n",
      "실제 요약 : have heard when alok nath drinks he gets crazy actor\n",
      "예측 요약 :  alok nath compares alok khanna to take alok khanna\n",
      "\n",
      "\n"
     ]
    }
   ],
   "source": [
    "for i in range(50, 100):\n",
    "    print(\"원문 :\", seq2text(encoder_input_test[i]))\n",
    "    print(\"실제 요약 :\", seq2headlines(decoder_input_test[i]))\n",
    "    print(\"예측 요약 :\", decode_sequence(encoder_input_test[i].reshape(1, text_max_len)))\n",
    "    print(\"\\n\")"
   ]
  },
  {
   "cell_type": "markdown",
   "id": "f1f21770",
   "metadata": {},
   "source": [
    "---"
   ]
  },
  {
   "cell_type": "markdown",
   "id": "139c31d9",
   "metadata": {},
   "source": [
    "### 추출적 요약\n",
    "앞서 seq2seq를 통해서 추상적 요약을 진행했다. \n",
    "텍스트 요약에는 추상적 요약 외에도 이미 본문에 존재하는 단어구, 문장을 뽑아서 요약으로 삼는 추출적 요약 방법도 존재."
   ]
  },
  {
   "cell_type": "markdown",
   "id": "639db1b4",
   "metadata": {},
   "source": [
    "패키지 Summa에서는 추출적 요약을 위한 모듈인 summarize를 제공함"
   ]
  },
  {
   "cell_type": "code",
   "execution_count": 53,
   "id": "3322f604",
   "metadata": {},
   "outputs": [],
   "source": [
    "import requests\n",
    "from summa.summarizer import summarize"
   ]
  },
  {
   "cell_type": "code",
   "execution_count": 56,
   "id": "f57d35f7",
   "metadata": {},
   "outputs": [],
   "source": [
    "data_2 = pd.read_csv(os.getenv('HOME')+'/aiffel/Exploration/news_summary_more.csv', encoding='iso-8859-1')"
   ]
  },
  {
   "cell_type": "code",
   "execution_count": 62,
   "id": "6ce76e91",
   "metadata": {},
   "outputs": [
    {
     "data": {
      "text/plain": [
       "0        Saurav Kant, an alumnus of upGrad and IIIT-B's...\n",
       "1        Kunal Shah's credit card bill payment platform...\n",
       "2        New Zealand defeated India by 8 wickets in the...\n",
       "3        With Aegon Life iTerm Insurance plan, customer...\n",
       "4        Speaking about the sexual harassment allegatio...\n",
       "                               ...                        \n",
       "98396    A CRPF jawan was on Tuesday axed to death with...\n",
       "98397    'Uff Yeh', the first song from the Sonakshi Si...\n",
       "98398    According to reports, a new version of the 199...\n",
       "98399    A new music video shows rapper Snoop Dogg aimi...\n",
       "98400    Madhesi Morcha, an alliance of seven political...\n",
       "Name: text, Length: 98401, dtype: object"
      ]
     },
     "execution_count": 62,
     "metadata": {},
     "output_type": "execute_result"
    }
   ],
   "source": [
    "data_2['text']"
   ]
  },
  {
   "cell_type": "code",
   "execution_count": 64,
   "id": "bfa9544a",
   "metadata": {},
   "outputs": [
    {
     "name": "stdout",
     "output_type": "stream",
     "text": [
      "Headline:\n"
     ]
    },
    {
     "ename": "ValueError",
     "evalue": "Text parameter must be a Unicode object (str)!",
     "output_type": "error",
     "traceback": [
      "\u001b[0;31m---------------------------------------------------------------------------\u001b[0m",
      "\u001b[0;31mValueError\u001b[0m                                Traceback (most recent call last)",
      "\u001b[0;32m/tmp/ipykernel_1886/1984028363.py\u001b[0m in \u001b[0;36m<module>\u001b[0;34m\u001b[0m\n\u001b[1;32m      1\u001b[0m \u001b[0mprint\u001b[0m\u001b[0;34m(\u001b[0m\u001b[0;34m'Headline:'\u001b[0m\u001b[0;34m)\u001b[0m\u001b[0;34m\u001b[0m\u001b[0;34m\u001b[0m\u001b[0m\n\u001b[0;32m----> 2\u001b[0;31m \u001b[0mprint\u001b[0m\u001b[0;34m(\u001b[0m\u001b[0msummarize\u001b[0m\u001b[0;34m(\u001b[0m\u001b[0mdata_2\u001b[0m\u001b[0;34m[\u001b[0m\u001b[0;34m'text'\u001b[0m\u001b[0;34m]\u001b[0m\u001b[0;34m,\u001b[0m \u001b[0mratio\u001b[0m\u001b[0;34m=\u001b[0m\u001b[0;36m0.005\u001b[0m\u001b[0;34m)\u001b[0m\u001b[0;34m)\u001b[0m\u001b[0;34m\u001b[0m\u001b[0;34m\u001b[0m\u001b[0m\n\u001b[0m",
      "\u001b[0;32m/opt/conda/lib/python3.9/site-packages/summa/summarizer.py\u001b[0m in \u001b[0;36msummarize\u001b[0;34m(text, ratio, words, language, split, scores, additional_stopwords)\u001b[0m\n\u001b[1;32m    112\u001b[0m \u001b[0;32mdef\u001b[0m \u001b[0msummarize\u001b[0m\u001b[0;34m(\u001b[0m\u001b[0mtext\u001b[0m\u001b[0;34m,\u001b[0m \u001b[0mratio\u001b[0m\u001b[0;34m=\u001b[0m\u001b[0;36m0.2\u001b[0m\u001b[0;34m,\u001b[0m \u001b[0mwords\u001b[0m\u001b[0;34m=\u001b[0m\u001b[0;32mNone\u001b[0m\u001b[0;34m,\u001b[0m \u001b[0mlanguage\u001b[0m\u001b[0;34m=\u001b[0m\u001b[0;34m\"english\"\u001b[0m\u001b[0;34m,\u001b[0m \u001b[0msplit\u001b[0m\u001b[0;34m=\u001b[0m\u001b[0;32mFalse\u001b[0m\u001b[0;34m,\u001b[0m \u001b[0mscores\u001b[0m\u001b[0;34m=\u001b[0m\u001b[0;32mFalse\u001b[0m\u001b[0;34m,\u001b[0m \u001b[0madditional_stopwords\u001b[0m\u001b[0;34m=\u001b[0m\u001b[0;32mNone\u001b[0m\u001b[0;34m)\u001b[0m\u001b[0;34m:\u001b[0m\u001b[0;34m\u001b[0m\u001b[0;34m\u001b[0m\u001b[0m\n\u001b[1;32m    113\u001b[0m     \u001b[0;32mif\u001b[0m \u001b[0;32mnot\u001b[0m \u001b[0misinstance\u001b[0m\u001b[0;34m(\u001b[0m\u001b[0mtext\u001b[0m\u001b[0;34m,\u001b[0m \u001b[0mstr\u001b[0m\u001b[0;34m)\u001b[0m\u001b[0;34m:\u001b[0m\u001b[0;34m\u001b[0m\u001b[0;34m\u001b[0m\u001b[0m\n\u001b[0;32m--> 114\u001b[0;31m         \u001b[0;32mraise\u001b[0m \u001b[0mValueError\u001b[0m\u001b[0;34m(\u001b[0m\u001b[0;34m\"Text parameter must be a Unicode object (str)!\"\u001b[0m\u001b[0;34m)\u001b[0m\u001b[0;34m\u001b[0m\u001b[0;34m\u001b[0m\u001b[0m\n\u001b[0m\u001b[1;32m    115\u001b[0m \u001b[0;34m\u001b[0m\u001b[0m\n\u001b[1;32m    116\u001b[0m     \u001b[0;31m# Gets a list of processed sentences.\u001b[0m\u001b[0;34m\u001b[0m\u001b[0;34m\u001b[0m\u001b[0m\n",
      "\u001b[0;31mValueError\u001b[0m: Text parameter must be a Unicode object (str)!"
     ]
    }
   ],
   "source": [
    "print('Headline:')\n",
    "print(summarize(data_2['text'], ratio=0.005))"
   ]
  },
  {
   "cell_type": "code",
   "execution_count": 60,
   "id": "99c11189",
   "metadata": {},
   "outputs": [
    {
     "name": "stdout",
     "output_type": "stream",
     "text": [
      "Summary:\n",
      "['Morpheus, Trinity, Neo, Apoc, Switch, Mouse and Cypher are jacked into the Matrix.', 'Trinity brings the helicopter down to the floor that Morpheus is on and Neo opens fire on the three Agents.']\n"
     ]
    }
   ],
   "source": [
    "# 리스트로 출력 결과를 받고 싶다면 split 인자의 값을 True로 변경.\n",
    "print('Summary:')\n",
    "print(summarize(text, ratio=0.005, split=True))"
   ]
  },
  {
   "cell_type": "code",
   "execution_count": 61,
   "id": "7adf3882",
   "metadata": {},
   "outputs": [
    {
     "name": "stdout",
     "output_type": "stream",
     "text": [
      "Trinity takes Neo to Morpheus.\n",
      "Morpheus, Trinity, Neo, Apoc, Switch, Mouse and Cypher are jacked into the Matrix.\n",
      "Trinity brings the helicopter down to the floor that Morpheus is on and Neo opens fire on the three Agents.\n"
     ]
    }
   ],
   "source": [
    "print(summarize(text, words=50)) # 단어의 수로 요약문의 크기를 조절할 수도 있어요. 단어를 50개만 선택한 예시"
   ]
  },
  {
   "cell_type": "markdown",
   "id": "eac608e2",
   "metadata": {},
   "source": [
    "회고: 어제 작성한 코드를 기반으로 어찌했지만 아직 다 학습이 안돼서 응용이 안되 아쉽다. 더 분발해야 겠다 ㅠㅜ"
   ]
  }
 ],
 "metadata": {
  "kernelspec": {
   "display_name": "Python 3 (ipykernel)",
   "language": "python",
   "name": "python3"
  },
  "language_info": {
   "codemirror_mode": {
    "name": "ipython",
    "version": 3
   },
   "file_extension": ".py",
   "mimetype": "text/x-python",
   "name": "python",
   "nbconvert_exporter": "python",
   "pygments_lexer": "ipython3",
   "version": "3.9.7"
  }
 },
 "nbformat": 4,
 "nbformat_minor": 5
}
